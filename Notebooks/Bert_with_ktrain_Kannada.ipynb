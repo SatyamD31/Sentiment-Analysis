{
  "nbformat": 4,
  "nbformat_minor": 2,
  "metadata": {
    "colab": {
      "name": "task4_with_ktrain.ipynb",
      "provenance": [],
      "collapsed_sections": []
    },
    "kernelspec": {
      "name": "python3",
      "display_name": "Python 3"
    },
    "language_info": {
      "name": "python"
    },
    "accelerator": "GPU",
    "widgets": {
      "application/vnd.jupyter.widget-state+json": {
        "cfac98e931154466bb12004916abd042": {
          "model_module": "@jupyter-widgets/controls",
          "model_name": "HBoxModel",
          "state": {
            "_view_name": "HBoxView",
            "_dom_classes": [],
            "_model_name": "HBoxModel",
            "_view_module": "@jupyter-widgets/controls",
            "_model_module_version": "1.5.0",
            "_view_count": null,
            "_view_module_version": "1.5.0",
            "box_style": "",
            "layout": "IPY_MODEL_1a9b2f22b5774702b13e3753d9313a47",
            "_model_module": "@jupyter-widgets/controls",
            "children": [
              "IPY_MODEL_e1ec050ce6bc42009a243d3df120e723",
              "IPY_MODEL_204787a633e240c09da6c3e8c65e1026"
            ]
          }
        },
        "1a9b2f22b5774702b13e3753d9313a47": {
          "model_module": "@jupyter-widgets/base",
          "model_name": "LayoutModel",
          "state": {
            "_view_name": "LayoutView",
            "grid_template_rows": null,
            "right": null,
            "justify_content": null,
            "_view_module": "@jupyter-widgets/base",
            "overflow": null,
            "_model_module_version": "1.2.0",
            "_view_count": null,
            "flex_flow": null,
            "width": null,
            "min_width": null,
            "border": null,
            "align_items": null,
            "bottom": null,
            "_model_module": "@jupyter-widgets/base",
            "top": null,
            "grid_column": null,
            "overflow_y": null,
            "overflow_x": null,
            "grid_auto_flow": null,
            "grid_area": null,
            "grid_template_columns": null,
            "flex": null,
            "_model_name": "LayoutModel",
            "justify_items": null,
            "grid_row": null,
            "max_height": null,
            "align_content": null,
            "visibility": null,
            "align_self": null,
            "height": null,
            "min_height": null,
            "padding": null,
            "grid_auto_rows": null,
            "grid_gap": null,
            "max_width": null,
            "order": null,
            "_view_module_version": "1.2.0",
            "grid_template_areas": null,
            "object_position": null,
            "object_fit": null,
            "grid_auto_columns": null,
            "margin": null,
            "display": null,
            "left": null
          }
        },
        "e1ec050ce6bc42009a243d3df120e723": {
          "model_module": "@jupyter-widgets/controls",
          "model_name": "FloatProgressModel",
          "state": {
            "_view_name": "ProgressView",
            "style": "IPY_MODEL_f5bd10540ac9425991e3bbc8ad186f8f",
            "_dom_classes": [],
            "description": "Downloading: 100%",
            "_model_name": "FloatProgressModel",
            "bar_style": "success",
            "max": 442,
            "_view_module": "@jupyter-widgets/controls",
            "_model_module_version": "1.5.0",
            "value": 442,
            "_view_count": null,
            "_view_module_version": "1.5.0",
            "orientation": "horizontal",
            "min": 0,
            "description_tooltip": null,
            "_model_module": "@jupyter-widgets/controls",
            "layout": "IPY_MODEL_ddc47450791f4ce6b1de132dcda2bf0d"
          }
        },
        "204787a633e240c09da6c3e8c65e1026": {
          "model_module": "@jupyter-widgets/controls",
          "model_name": "HTMLModel",
          "state": {
            "_view_name": "HTMLView",
            "style": "IPY_MODEL_ace666f77a3d44008dca664834ac7eff",
            "_dom_classes": [],
            "description": "",
            "_model_name": "HTMLModel",
            "placeholder": "​",
            "_view_module": "@jupyter-widgets/controls",
            "_model_module_version": "1.5.0",
            "value": " 442/442 [00:00&lt;00:00, 4.39kB/s]",
            "_view_count": null,
            "_view_module_version": "1.5.0",
            "description_tooltip": null,
            "_model_module": "@jupyter-widgets/controls",
            "layout": "IPY_MODEL_c2fce186d56a44d0aa1070ca51193edf"
          }
        },
        "f5bd10540ac9425991e3bbc8ad186f8f": {
          "model_module": "@jupyter-widgets/controls",
          "model_name": "ProgressStyleModel",
          "state": {
            "_view_name": "StyleView",
            "_model_name": "ProgressStyleModel",
            "description_width": "initial",
            "_view_module": "@jupyter-widgets/base",
            "_model_module_version": "1.5.0",
            "_view_count": null,
            "_view_module_version": "1.2.0",
            "bar_color": null,
            "_model_module": "@jupyter-widgets/controls"
          }
        },
        "ddc47450791f4ce6b1de132dcda2bf0d": {
          "model_module": "@jupyter-widgets/base",
          "model_name": "LayoutModel",
          "state": {
            "_view_name": "LayoutView",
            "grid_template_rows": null,
            "right": null,
            "justify_content": null,
            "_view_module": "@jupyter-widgets/base",
            "overflow": null,
            "_model_module_version": "1.2.0",
            "_view_count": null,
            "flex_flow": null,
            "width": null,
            "min_width": null,
            "border": null,
            "align_items": null,
            "bottom": null,
            "_model_module": "@jupyter-widgets/base",
            "top": null,
            "grid_column": null,
            "overflow_y": null,
            "overflow_x": null,
            "grid_auto_flow": null,
            "grid_area": null,
            "grid_template_columns": null,
            "flex": null,
            "_model_name": "LayoutModel",
            "justify_items": null,
            "grid_row": null,
            "max_height": null,
            "align_content": null,
            "visibility": null,
            "align_self": null,
            "height": null,
            "min_height": null,
            "padding": null,
            "grid_auto_rows": null,
            "grid_gap": null,
            "max_width": null,
            "order": null,
            "_view_module_version": "1.2.0",
            "grid_template_areas": null,
            "object_position": null,
            "object_fit": null,
            "grid_auto_columns": null,
            "margin": null,
            "display": null,
            "left": null
          }
        },
        "ace666f77a3d44008dca664834ac7eff": {
          "model_module": "@jupyter-widgets/controls",
          "model_name": "DescriptionStyleModel",
          "state": {
            "_view_name": "StyleView",
            "_model_name": "DescriptionStyleModel",
            "description_width": "",
            "_view_module": "@jupyter-widgets/base",
            "_model_module_version": "1.5.0",
            "_view_count": null,
            "_view_module_version": "1.2.0",
            "_model_module": "@jupyter-widgets/controls"
          }
        },
        "c2fce186d56a44d0aa1070ca51193edf": {
          "model_module": "@jupyter-widgets/base",
          "model_name": "LayoutModel",
          "state": {
            "_view_name": "LayoutView",
            "grid_template_rows": null,
            "right": null,
            "justify_content": null,
            "_view_module": "@jupyter-widgets/base",
            "overflow": null,
            "_model_module_version": "1.2.0",
            "_view_count": null,
            "flex_flow": null,
            "width": null,
            "min_width": null,
            "border": null,
            "align_items": null,
            "bottom": null,
            "_model_module": "@jupyter-widgets/base",
            "top": null,
            "grid_column": null,
            "overflow_y": null,
            "overflow_x": null,
            "grid_auto_flow": null,
            "grid_area": null,
            "grid_template_columns": null,
            "flex": null,
            "_model_name": "LayoutModel",
            "justify_items": null,
            "grid_row": null,
            "max_height": null,
            "align_content": null,
            "visibility": null,
            "align_self": null,
            "height": null,
            "min_height": null,
            "padding": null,
            "grid_auto_rows": null,
            "grid_gap": null,
            "max_width": null,
            "order": null,
            "_view_module_version": "1.2.0",
            "grid_template_areas": null,
            "object_position": null,
            "object_fit": null,
            "grid_auto_columns": null,
            "margin": null,
            "display": null,
            "left": null
          }
        },
        "afa8ea9665504413866742e8295e8f4e": {
          "model_module": "@jupyter-widgets/controls",
          "model_name": "HBoxModel",
          "state": {
            "_view_name": "HBoxView",
            "_dom_classes": [],
            "_model_name": "HBoxModel",
            "_view_module": "@jupyter-widgets/controls",
            "_model_module_version": "1.5.0",
            "_view_count": null,
            "_view_module_version": "1.5.0",
            "box_style": "",
            "layout": "IPY_MODEL_f765d4372f4540ef86cabf1e6fa69807",
            "_model_module": "@jupyter-widgets/controls",
            "children": [
              "IPY_MODEL_77a8a2aa20df44d88a831a9c07b5ff1d",
              "IPY_MODEL_84ee8971798842f3bab04b4b21ca64d5"
            ]
          }
        },
        "f765d4372f4540ef86cabf1e6fa69807": {
          "model_module": "@jupyter-widgets/base",
          "model_name": "LayoutModel",
          "state": {
            "_view_name": "LayoutView",
            "grid_template_rows": null,
            "right": null,
            "justify_content": null,
            "_view_module": "@jupyter-widgets/base",
            "overflow": null,
            "_model_module_version": "1.2.0",
            "_view_count": null,
            "flex_flow": null,
            "width": null,
            "min_width": null,
            "border": null,
            "align_items": null,
            "bottom": null,
            "_model_module": "@jupyter-widgets/base",
            "top": null,
            "grid_column": null,
            "overflow_y": null,
            "overflow_x": null,
            "grid_auto_flow": null,
            "grid_area": null,
            "grid_template_columns": null,
            "flex": null,
            "_model_name": "LayoutModel",
            "justify_items": null,
            "grid_row": null,
            "max_height": null,
            "align_content": null,
            "visibility": null,
            "align_self": null,
            "height": null,
            "min_height": null,
            "padding": null,
            "grid_auto_rows": null,
            "grid_gap": null,
            "max_width": null,
            "order": null,
            "_view_module_version": "1.2.0",
            "grid_template_areas": null,
            "object_position": null,
            "object_fit": null,
            "grid_auto_columns": null,
            "margin": null,
            "display": null,
            "left": null
          }
        },
        "77a8a2aa20df44d88a831a9c07b5ff1d": {
          "model_module": "@jupyter-widgets/controls",
          "model_name": "FloatProgressModel",
          "state": {
            "_view_name": "ProgressView",
            "style": "IPY_MODEL_078466d1b975483ba675faacb267c465",
            "_dom_classes": [],
            "description": "Downloading: 100%",
            "_model_name": "FloatProgressModel",
            "bar_style": "success",
            "max": 231508,
            "_view_module": "@jupyter-widgets/controls",
            "_model_module_version": "1.5.0",
            "value": 231508,
            "_view_count": null,
            "_view_module_version": "1.5.0",
            "orientation": "horizontal",
            "min": 0,
            "description_tooltip": null,
            "_model_module": "@jupyter-widgets/controls",
            "layout": "IPY_MODEL_aaccf7b6c48b467aaf1c9b5cff9e25dd"
          }
        },
        "84ee8971798842f3bab04b4b21ca64d5": {
          "model_module": "@jupyter-widgets/controls",
          "model_name": "HTMLModel",
          "state": {
            "_view_name": "HTMLView",
            "style": "IPY_MODEL_b6f54a89dd424caa98621b72aa23aa0e",
            "_dom_classes": [],
            "description": "",
            "_model_name": "HTMLModel",
            "placeholder": "​",
            "_view_module": "@jupyter-widgets/controls",
            "_model_module_version": "1.5.0",
            "value": " 232k/232k [00:00&lt;00:00, 320kB/s]",
            "_view_count": null,
            "_view_module_version": "1.5.0",
            "description_tooltip": null,
            "_model_module": "@jupyter-widgets/controls",
            "layout": "IPY_MODEL_39e1dcf849df44fbbc389fe1d0738ade"
          }
        },
        "078466d1b975483ba675faacb267c465": {
          "model_module": "@jupyter-widgets/controls",
          "model_name": "ProgressStyleModel",
          "state": {
            "_view_name": "StyleView",
            "_model_name": "ProgressStyleModel",
            "description_width": "initial",
            "_view_module": "@jupyter-widgets/base",
            "_model_module_version": "1.5.0",
            "_view_count": null,
            "_view_module_version": "1.2.0",
            "bar_color": null,
            "_model_module": "@jupyter-widgets/controls"
          }
        },
        "aaccf7b6c48b467aaf1c9b5cff9e25dd": {
          "model_module": "@jupyter-widgets/base",
          "model_name": "LayoutModel",
          "state": {
            "_view_name": "LayoutView",
            "grid_template_rows": null,
            "right": null,
            "justify_content": null,
            "_view_module": "@jupyter-widgets/base",
            "overflow": null,
            "_model_module_version": "1.2.0",
            "_view_count": null,
            "flex_flow": null,
            "width": null,
            "min_width": null,
            "border": null,
            "align_items": null,
            "bottom": null,
            "_model_module": "@jupyter-widgets/base",
            "top": null,
            "grid_column": null,
            "overflow_y": null,
            "overflow_x": null,
            "grid_auto_flow": null,
            "grid_area": null,
            "grid_template_columns": null,
            "flex": null,
            "_model_name": "LayoutModel",
            "justify_items": null,
            "grid_row": null,
            "max_height": null,
            "align_content": null,
            "visibility": null,
            "align_self": null,
            "height": null,
            "min_height": null,
            "padding": null,
            "grid_auto_rows": null,
            "grid_gap": null,
            "max_width": null,
            "order": null,
            "_view_module_version": "1.2.0",
            "grid_template_areas": null,
            "object_position": null,
            "object_fit": null,
            "grid_auto_columns": null,
            "margin": null,
            "display": null,
            "left": null
          }
        },
        "b6f54a89dd424caa98621b72aa23aa0e": {
          "model_module": "@jupyter-widgets/controls",
          "model_name": "DescriptionStyleModel",
          "state": {
            "_view_name": "StyleView",
            "_model_name": "DescriptionStyleModel",
            "description_width": "",
            "_view_module": "@jupyter-widgets/base",
            "_model_module_version": "1.5.0",
            "_view_count": null,
            "_view_module_version": "1.2.0",
            "_model_module": "@jupyter-widgets/controls"
          }
        },
        "39e1dcf849df44fbbc389fe1d0738ade": {
          "model_module": "@jupyter-widgets/base",
          "model_name": "LayoutModel",
          "state": {
            "_view_name": "LayoutView",
            "grid_template_rows": null,
            "right": null,
            "justify_content": null,
            "_view_module": "@jupyter-widgets/base",
            "overflow": null,
            "_model_module_version": "1.2.0",
            "_view_count": null,
            "flex_flow": null,
            "width": null,
            "min_width": null,
            "border": null,
            "align_items": null,
            "bottom": null,
            "_model_module": "@jupyter-widgets/base",
            "top": null,
            "grid_column": null,
            "overflow_y": null,
            "overflow_x": null,
            "grid_auto_flow": null,
            "grid_area": null,
            "grid_template_columns": null,
            "flex": null,
            "_model_name": "LayoutModel",
            "justify_items": null,
            "grid_row": null,
            "max_height": null,
            "align_content": null,
            "visibility": null,
            "align_self": null,
            "height": null,
            "min_height": null,
            "padding": null,
            "grid_auto_rows": null,
            "grid_gap": null,
            "max_width": null,
            "order": null,
            "_view_module_version": "1.2.0",
            "grid_template_areas": null,
            "object_position": null,
            "object_fit": null,
            "grid_auto_columns": null,
            "margin": null,
            "display": null,
            "left": null
          }
        },
        "bbd76b98763345b490effd427d6ab3ed": {
          "model_module": "@jupyter-widgets/controls",
          "model_name": "HBoxModel",
          "state": {
            "_view_name": "HBoxView",
            "_dom_classes": [],
            "_model_name": "HBoxModel",
            "_view_module": "@jupyter-widgets/controls",
            "_model_module_version": "1.5.0",
            "_view_count": null,
            "_view_module_version": "1.5.0",
            "box_style": "",
            "layout": "IPY_MODEL_ef12830efe434a40adf8ad7686a65d2c",
            "_model_module": "@jupyter-widgets/controls",
            "children": [
              "IPY_MODEL_6fb6d6e036eb400c8d0a6e2370a12eb1",
              "IPY_MODEL_c255c1bf99ad43dabefa639bb6759ded"
            ]
          }
        },
        "ef12830efe434a40adf8ad7686a65d2c": {
          "model_module": "@jupyter-widgets/base",
          "model_name": "LayoutModel",
          "state": {
            "_view_name": "LayoutView",
            "grid_template_rows": null,
            "right": null,
            "justify_content": null,
            "_view_module": "@jupyter-widgets/base",
            "overflow": null,
            "_model_module_version": "1.2.0",
            "_view_count": null,
            "flex_flow": null,
            "width": null,
            "min_width": null,
            "border": null,
            "align_items": null,
            "bottom": null,
            "_model_module": "@jupyter-widgets/base",
            "top": null,
            "grid_column": null,
            "overflow_y": null,
            "overflow_x": null,
            "grid_auto_flow": null,
            "grid_area": null,
            "grid_template_columns": null,
            "flex": null,
            "_model_name": "LayoutModel",
            "justify_items": null,
            "grid_row": null,
            "max_height": null,
            "align_content": null,
            "visibility": null,
            "align_self": null,
            "height": null,
            "min_height": null,
            "padding": null,
            "grid_auto_rows": null,
            "grid_gap": null,
            "max_width": null,
            "order": null,
            "_view_module_version": "1.2.0",
            "grid_template_areas": null,
            "object_position": null,
            "object_fit": null,
            "grid_auto_columns": null,
            "margin": null,
            "display": null,
            "left": null
          }
        },
        "6fb6d6e036eb400c8d0a6e2370a12eb1": {
          "model_module": "@jupyter-widgets/controls",
          "model_name": "FloatProgressModel",
          "state": {
            "_view_name": "ProgressView",
            "style": "IPY_MODEL_947941d21d8048e8a92cdb61e2f928fb",
            "_dom_classes": [],
            "description": "Downloading: 100%",
            "_model_name": "FloatProgressModel",
            "bar_style": "success",
            "max": 466062,
            "_view_module": "@jupyter-widgets/controls",
            "_model_module_version": "1.5.0",
            "value": 466062,
            "_view_count": null,
            "_view_module_version": "1.5.0",
            "orientation": "horizontal",
            "min": 0,
            "description_tooltip": null,
            "_model_module": "@jupyter-widgets/controls",
            "layout": "IPY_MODEL_d0927bfc1fca42c09c1632de01b73eee"
          }
        },
        "c255c1bf99ad43dabefa639bb6759ded": {
          "model_module": "@jupyter-widgets/controls",
          "model_name": "HTMLModel",
          "state": {
            "_view_name": "HTMLView",
            "style": "IPY_MODEL_14f145900c1c4e01b9b6d96cbfebb9d1",
            "_dom_classes": [],
            "description": "",
            "_model_name": "HTMLModel",
            "placeholder": "​",
            "_view_module": "@jupyter-widgets/controls",
            "_model_module_version": "1.5.0",
            "value": " 466k/466k [00:00&lt;00:00, 1.62MB/s]",
            "_view_count": null,
            "_view_module_version": "1.5.0",
            "description_tooltip": null,
            "_model_module": "@jupyter-widgets/controls",
            "layout": "IPY_MODEL_a69d0a2a81654aecb7cc0a46ce1de212"
          }
        },
        "947941d21d8048e8a92cdb61e2f928fb": {
          "model_module": "@jupyter-widgets/controls",
          "model_name": "ProgressStyleModel",
          "state": {
            "_view_name": "StyleView",
            "_model_name": "ProgressStyleModel",
            "description_width": "initial",
            "_view_module": "@jupyter-widgets/base",
            "_model_module_version": "1.5.0",
            "_view_count": null,
            "_view_module_version": "1.2.0",
            "bar_color": null,
            "_model_module": "@jupyter-widgets/controls"
          }
        },
        "d0927bfc1fca42c09c1632de01b73eee": {
          "model_module": "@jupyter-widgets/base",
          "model_name": "LayoutModel",
          "state": {
            "_view_name": "LayoutView",
            "grid_template_rows": null,
            "right": null,
            "justify_content": null,
            "_view_module": "@jupyter-widgets/base",
            "overflow": null,
            "_model_module_version": "1.2.0",
            "_view_count": null,
            "flex_flow": null,
            "width": null,
            "min_width": null,
            "border": null,
            "align_items": null,
            "bottom": null,
            "_model_module": "@jupyter-widgets/base",
            "top": null,
            "grid_column": null,
            "overflow_y": null,
            "overflow_x": null,
            "grid_auto_flow": null,
            "grid_area": null,
            "grid_template_columns": null,
            "flex": null,
            "_model_name": "LayoutModel",
            "justify_items": null,
            "grid_row": null,
            "max_height": null,
            "align_content": null,
            "visibility": null,
            "align_self": null,
            "height": null,
            "min_height": null,
            "padding": null,
            "grid_auto_rows": null,
            "grid_gap": null,
            "max_width": null,
            "order": null,
            "_view_module_version": "1.2.0",
            "grid_template_areas": null,
            "object_position": null,
            "object_fit": null,
            "grid_auto_columns": null,
            "margin": null,
            "display": null,
            "left": null
          }
        },
        "14f145900c1c4e01b9b6d96cbfebb9d1": {
          "model_module": "@jupyter-widgets/controls",
          "model_name": "DescriptionStyleModel",
          "state": {
            "_view_name": "StyleView",
            "_model_name": "DescriptionStyleModel",
            "description_width": "",
            "_view_module": "@jupyter-widgets/base",
            "_model_module_version": "1.5.0",
            "_view_count": null,
            "_view_module_version": "1.2.0",
            "_model_module": "@jupyter-widgets/controls"
          }
        },
        "a69d0a2a81654aecb7cc0a46ce1de212": {
          "model_module": "@jupyter-widgets/base",
          "model_name": "LayoutModel",
          "state": {
            "_view_name": "LayoutView",
            "grid_template_rows": null,
            "right": null,
            "justify_content": null,
            "_view_module": "@jupyter-widgets/base",
            "overflow": null,
            "_model_module_version": "1.2.0",
            "_view_count": null,
            "flex_flow": null,
            "width": null,
            "min_width": null,
            "border": null,
            "align_items": null,
            "bottom": null,
            "_model_module": "@jupyter-widgets/base",
            "top": null,
            "grid_column": null,
            "overflow_y": null,
            "overflow_x": null,
            "grid_auto_flow": null,
            "grid_area": null,
            "grid_template_columns": null,
            "flex": null,
            "_model_name": "LayoutModel",
            "justify_items": null,
            "grid_row": null,
            "max_height": null,
            "align_content": null,
            "visibility": null,
            "align_self": null,
            "height": null,
            "min_height": null,
            "padding": null,
            "grid_auto_rows": null,
            "grid_gap": null,
            "max_width": null,
            "order": null,
            "_view_module_version": "1.2.0",
            "grid_template_areas": null,
            "object_position": null,
            "object_fit": null,
            "grid_auto_columns": null,
            "margin": null,
            "display": null,
            "left": null
          }
        },
        "16f964e6102e4330a31c4cb12c267867": {
          "model_module": "@jupyter-widgets/controls",
          "model_name": "HBoxModel",
          "state": {
            "_view_name": "HBoxView",
            "_dom_classes": [],
            "_model_name": "HBoxModel",
            "_view_module": "@jupyter-widgets/controls",
            "_model_module_version": "1.5.0",
            "_view_count": null,
            "_view_module_version": "1.5.0",
            "box_style": "",
            "layout": "IPY_MODEL_ca6e1dd8e779450ca6aedb72de5935b2",
            "_model_module": "@jupyter-widgets/controls",
            "children": [
              "IPY_MODEL_870959f89a6143dd840baf6e0f210cf2",
              "IPY_MODEL_6b593ab5184b4981b4e1084abc20371d"
            ]
          }
        },
        "ca6e1dd8e779450ca6aedb72de5935b2": {
          "model_module": "@jupyter-widgets/base",
          "model_name": "LayoutModel",
          "state": {
            "_view_name": "LayoutView",
            "grid_template_rows": null,
            "right": null,
            "justify_content": null,
            "_view_module": "@jupyter-widgets/base",
            "overflow": null,
            "_model_module_version": "1.2.0",
            "_view_count": null,
            "flex_flow": null,
            "width": null,
            "min_width": null,
            "border": null,
            "align_items": null,
            "bottom": null,
            "_model_module": "@jupyter-widgets/base",
            "top": null,
            "grid_column": null,
            "overflow_y": null,
            "overflow_x": null,
            "grid_auto_flow": null,
            "grid_area": null,
            "grid_template_columns": null,
            "flex": null,
            "_model_name": "LayoutModel",
            "justify_items": null,
            "grid_row": null,
            "max_height": null,
            "align_content": null,
            "visibility": null,
            "align_self": null,
            "height": null,
            "min_height": null,
            "padding": null,
            "grid_auto_rows": null,
            "grid_gap": null,
            "max_width": null,
            "order": null,
            "_view_module_version": "1.2.0",
            "grid_template_areas": null,
            "object_position": null,
            "object_fit": null,
            "grid_auto_columns": null,
            "margin": null,
            "display": null,
            "left": null
          }
        },
        "870959f89a6143dd840baf6e0f210cf2": {
          "model_module": "@jupyter-widgets/controls",
          "model_name": "FloatProgressModel",
          "state": {
            "_view_name": "ProgressView",
            "style": "IPY_MODEL_5afae24ab258463785499f649e728024",
            "_dom_classes": [],
            "description": "Downloading: 100%",
            "_model_name": "FloatProgressModel",
            "bar_style": "success",
            "max": 363423424,
            "_view_module": "@jupyter-widgets/controls",
            "_model_module_version": "1.5.0",
            "value": 363423424,
            "_view_count": null,
            "_view_module_version": "1.5.0",
            "orientation": "horizontal",
            "min": 0,
            "description_tooltip": null,
            "_model_module": "@jupyter-widgets/controls",
            "layout": "IPY_MODEL_6e3fd58369334664972834c30a0dbbe3"
          }
        },
        "6b593ab5184b4981b4e1084abc20371d": {
          "model_module": "@jupyter-widgets/controls",
          "model_name": "HTMLModel",
          "state": {
            "_view_name": "HTMLView",
            "style": "IPY_MODEL_99c40dfe79204e49b741f32a7b939d88",
            "_dom_classes": [],
            "description": "",
            "_model_name": "HTMLModel",
            "placeholder": "​",
            "_view_module": "@jupyter-widgets/controls",
            "_model_module_version": "1.5.0",
            "value": " 363M/363M [00:07&lt;00:00, 48.4MB/s]",
            "_view_count": null,
            "_view_module_version": "1.5.0",
            "description_tooltip": null,
            "_model_module": "@jupyter-widgets/controls",
            "layout": "IPY_MODEL_3986b8cd61b74e0c96bd5eb4eea3bc48"
          }
        },
        "5afae24ab258463785499f649e728024": {
          "model_module": "@jupyter-widgets/controls",
          "model_name": "ProgressStyleModel",
          "state": {
            "_view_name": "StyleView",
            "_model_name": "ProgressStyleModel",
            "description_width": "initial",
            "_view_module": "@jupyter-widgets/base",
            "_model_module_version": "1.5.0",
            "_view_count": null,
            "_view_module_version": "1.2.0",
            "bar_color": null,
            "_model_module": "@jupyter-widgets/controls"
          }
        },
        "6e3fd58369334664972834c30a0dbbe3": {
          "model_module": "@jupyter-widgets/base",
          "model_name": "LayoutModel",
          "state": {
            "_view_name": "LayoutView",
            "grid_template_rows": null,
            "right": null,
            "justify_content": null,
            "_view_module": "@jupyter-widgets/base",
            "overflow": null,
            "_model_module_version": "1.2.0",
            "_view_count": null,
            "flex_flow": null,
            "width": null,
            "min_width": null,
            "border": null,
            "align_items": null,
            "bottom": null,
            "_model_module": "@jupyter-widgets/base",
            "top": null,
            "grid_column": null,
            "overflow_y": null,
            "overflow_x": null,
            "grid_auto_flow": null,
            "grid_area": null,
            "grid_template_columns": null,
            "flex": null,
            "_model_name": "LayoutModel",
            "justify_items": null,
            "grid_row": null,
            "max_height": null,
            "align_content": null,
            "visibility": null,
            "align_self": null,
            "height": null,
            "min_height": null,
            "padding": null,
            "grid_auto_rows": null,
            "grid_gap": null,
            "max_width": null,
            "order": null,
            "_view_module_version": "1.2.0",
            "grid_template_areas": null,
            "object_position": null,
            "object_fit": null,
            "grid_auto_columns": null,
            "margin": null,
            "display": null,
            "left": null
          }
        },
        "99c40dfe79204e49b741f32a7b939d88": {
          "model_module": "@jupyter-widgets/controls",
          "model_name": "DescriptionStyleModel",
          "state": {
            "_view_name": "StyleView",
            "_model_name": "DescriptionStyleModel",
            "description_width": "",
            "_view_module": "@jupyter-widgets/base",
            "_model_module_version": "1.5.0",
            "_view_count": null,
            "_view_module_version": "1.2.0",
            "_model_module": "@jupyter-widgets/controls"
          }
        },
        "3986b8cd61b74e0c96bd5eb4eea3bc48": {
          "model_module": "@jupyter-widgets/base",
          "model_name": "LayoutModel",
          "state": {
            "_view_name": "LayoutView",
            "grid_template_rows": null,
            "right": null,
            "justify_content": null,
            "_view_module": "@jupyter-widgets/base",
            "overflow": null,
            "_model_module_version": "1.2.0",
            "_view_count": null,
            "flex_flow": null,
            "width": null,
            "min_width": null,
            "border": null,
            "align_items": null,
            "bottom": null,
            "_model_module": "@jupyter-widgets/base",
            "top": null,
            "grid_column": null,
            "overflow_y": null,
            "overflow_x": null,
            "grid_auto_flow": null,
            "grid_area": null,
            "grid_template_columns": null,
            "flex": null,
            "_model_name": "LayoutModel",
            "justify_items": null,
            "grid_row": null,
            "max_height": null,
            "align_content": null,
            "visibility": null,
            "align_self": null,
            "height": null,
            "min_height": null,
            "padding": null,
            "grid_auto_rows": null,
            "grid_gap": null,
            "max_width": null,
            "order": null,
            "_view_module_version": "1.2.0",
            "grid_template_areas": null,
            "object_position": null,
            "object_fit": null,
            "grid_auto_columns": null,
            "margin": null,
            "display": null,
            "left": null
          }
        }
      }
    }
  },
  "cells": [
    {
      "cell_type": "code",
      "execution_count": null,
      "source": [
        "!pip install ktrain"
      ],
      "outputs": [],
      "metadata": {
        "id": "GuK4rn1dEpkw"
      }
    },
    {
      "cell_type": "code",
      "execution_count": null,
      "source": [
        "import pandas as pd\r\n",
        "import numpy as np\r\n",
        "import tensorflow as tf\r\n",
        "import ktrain\r\n",
        "from ktrain import text"
      ],
      "outputs": [],
      "metadata": {
        "id": "yBYzg9zhE_OR"
      }
    },
    {
      "cell_type": "code",
      "execution_count": null,
      "source": [
        "df_tr = pd.read_csv('/content/drive/MyDrive/kannada_sentiment_full_train.tsv', sep='\\t')\r\n",
        "df_tt = pd.read_csv('/content/drive/MyDrive/kannada_sentiment_full_dev.tsv', sep='\\t')"
      ],
      "outputs": [],
      "metadata": {
        "id": "7vcUFZZlFHPw"
      }
    },
    {
      "cell_type": "code",
      "execution_count": null,
      "source": [
        "def demoji(text):\r\n",
        "\temoji_pattern = re.compile(\"[\"\r\n",
        "\t\tu\"\\U0001F600-\\U0001F64F\"  # emoticons\r\n",
        "        u\"\\U0001F300-\\U0001F5FF\"  # symbols & pictographs\r\n",
        "        u\"\\U0001F680-\\U0001F6FF\"  # transport & map symbols\r\n",
        "        u\"\\U0001F1E0-\\U0001F1FF\"  # flags (iOS)\r\n",
        "        u\"\\U00002702-\\U000027B0\"\r\n",
        "        u\"\\U000024C2-\\U0001F251\"\r\n",
        "        u\"\\U00010000-\\U0010ffff\"\r\n",
        "\t\"]+\", flags=re.UNICODE)\r\n",
        "\treturn(emoji_pattern.sub(r'', text))"
      ],
      "outputs": [],
      "metadata": {
        "id": "ukYSY6BUSSz2"
      }
    },
    {
      "cell_type": "code",
      "execution_count": null,
      "source": [
        "import re \r\n",
        "\r\n",
        "df_tr['text'] = df_tr['text'].apply(lambda x: demoji(x))\r\n",
        "df_tr['text'] = df_tr['text'].str.replace('\\d+', '')\r\n",
        "\r\n",
        "df_tt['text'] = df_tt['text'].apply(lambda x: demoji(x))\r\n",
        "df_tt['text'] = df_tt['text'].str.replace('\\d+', '')"
      ],
      "outputs": [],
      "metadata": {
        "id": "ees5oZ3OSWwc"
      }
    },
    {
      "cell_type": "code",
      "execution_count": null,
      "source": [
        "(X_train, y_train), (X_test, y_test), preprocess = text.texts_from_df(train_df=df_tr, text_column='text', label_columns='category', val_df=df_tt, maxlen=64, preprocess_mode='bert')"
      ],
      "outputs": [
        {
          "output_type": "stream",
          "name": "stdout",
          "text": [
            "['Mixed feelings', 'Negative', 'Positive', 'not-Kannada', 'unknown state']\n",
            "   Mixed feelings  Negative  Positive  not-Kannada  unknown state\n",
            "0             0.0       1.0       0.0          0.0            0.0\n",
            "1             0.0       0.0       1.0          0.0            0.0\n",
            "2             0.0       0.0       0.0          1.0            0.0\n",
            "3             0.0       1.0       0.0          0.0            0.0\n",
            "4             0.0       0.0       1.0          0.0            0.0\n",
            "['Mixed feelings', 'Negative', 'Positive', 'not-Kannada', 'unknown state']\n",
            "   Mixed feelings  Negative  Positive  not-Kannada  unknown state\n",
            "0             1.0       0.0       0.0          0.0            0.0\n",
            "1             0.0       0.0       1.0          0.0            0.0\n",
            "2             0.0       0.0       0.0          1.0            0.0\n",
            "3             0.0       0.0       1.0          0.0            0.0\n",
            "4             0.0       0.0       1.0          0.0            0.0\n",
            "downloading pretrained BERT model (multi_cased_L-12_H-768_A-12.zip)...\n",
            "[██████████████████████████████████████████████████]\n",
            "extracting pretrained BERT model...\n",
            "done.\n",
            "\n",
            "cleanup downloaded zip...\n",
            "done.\n",
            "\n",
            "preprocessing train...\n",
            "language: kn\n"
          ]
        },
        {
          "output_type": "display_data",
          "data": {
            "text/plain": [
              "<IPython.core.display.HTML object>"
            ],
            "text/html": [
              "done."
            ]
          },
          "metadata": {
            "tags": []
          }
        },
        {
          "output_type": "stream",
          "name": "stdout",
          "text": [
            "Is Multi-Label? False\n",
            "preprocessing test...\n",
            "language: kn\n"
          ]
        },
        {
          "output_type": "display_data",
          "data": {
            "text/plain": [
              "<IPython.core.display.HTML object>"
            ],
            "text/html": [
              "done."
            ]
          },
          "metadata": {
            "tags": []
          }
        }
      ],
      "metadata": {
        "id": "Ol3j7mUXGFr9",
        "colab": {
          "base_uri": "https://localhost:8080/",
          "height": 510
        },
        "outputId": "755bbd54-8c0d-4cc1-d98c-379411731b09"
      }
    },
    {
      "cell_type": "code",
      "execution_count": null,
      "source": [
        "model = text.text_classifier(name='bert', train_data=(X_train, y_train), preproc=preprocess)"
      ],
      "outputs": [
        {
          "output_type": "stream",
          "name": "stdout",
          "text": [
            "Is Multi-Label? False\n",
            "maxlen is 64\n",
            "done.\n"
          ]
        }
      ],
      "metadata": {
        "id": "njVxEc4BHB16",
        "colab": {
          "base_uri": "https://localhost:8080/"
        },
        "outputId": "73a613b6-7703-46ea-d1aa-128bbb850d57"
      }
    },
    {
      "cell_type": "code",
      "execution_count": null,
      "source": [
        "# batch size is determined according to maxlen\r\n",
        "learner = ktrain.get_learner(model=model, train_data=(X_train, y_train), val_data=(X_test, y_test), batch_size=64)"
      ],
      "outputs": [],
      "metadata": {
        "id": "2VOT22ZrHZca"
      }
    },
    {
      "cell_type": "code",
      "execution_count": null,
      "source": [
        "learner.lr_find(max_epochs=3)\r\n",
        "learner.lr_plot()"
      ],
      "outputs": [
        {
          "output_type": "stream",
          "name": "stdout",
          "text": [
            "simulating training for different learning rates... this may take a few moments...\n"
          ]
        },
        {
          "output_type": "stream",
          "name": "stderr",
          "text": [
            "/usr/local/lib/python3.7/dist-packages/tensorflow/python/keras/utils/generic_utils.py:497: CustomMaskWarning: Custom mask layers require a config and must override get_config. When loading, the custom mask layer must be passed to the custom_objects argument.\n",
            "  category=CustomMaskWarning)\n"
          ]
        },
        {
          "output_type": "stream",
          "name": "stdout",
          "text": [
            "Epoch 1/3\n",
            "98/98 [==============================] - 247s 2s/step - loss: 1.4669 - accuracy: 0.3571\n",
            "Epoch 2/3\n",
            "98/98 [==============================] - 218s 2s/step - loss: 2.1050 - accuracy: 0.4177\n",
            "Epoch 3/3\n",
            "98/98 [==============================] - 38s 368ms/step - loss: 19.8946 - accuracy: 0.2822\n",
            "\n",
            "\n",
            "done.\n",
            "Please invoke the Learner.lr_plot() method to visually inspect the loss plot to help identify the maximal learning rate associated with falling loss.\n"
          ]
        },
        {
          "output_type": "display_data",
          "data": {
            "text/plain": [
              "<Figure size 432x288 with 1 Axes>"
            ],
            "image/png": "[encoded data removed]"
          },
          "metadata": {
            "tags": [],
            "needs_background": "light"
          }
        }
      ],
      "metadata": {
        "id": "fDAq8U6PJFBH",
        "colab": {
          "base_uri": "https://localhost:8080/",
          "height": 524
        },
        "outputId": "637f09a4-73ed-4221-f045-d5603e69a268"
      }
    },
    {
      "cell_type": "code",
      "execution_count": null,
      "source": [
        "learner.lr_plot(suggest=True)"
      ],
      "outputs": [
        {
          "output_type": "stream",
          "name": "stdout",
          "text": [
            "Two possible suggestions for LR from plot:\n",
            "\tMin numerical gradient: 6.25E-06\n",
            "\tMin loss divided by 10: 2.12E-04\n"
          ]
        },
        {
          "output_type": "display_data",
          "data": {
            "text/plain": [
              "<Figure size 432x288 with 1 Axes>"
            ],
            "image/png": "[encoded data removed]"
          },
          "metadata": {
            "tags": [],
            "needs_background": "light"
          }
        }
      ],
      "metadata": {
        "id": "4rVVPJhrlQTt",
        "colab": {
          "base_uri": "https://localhost:8080/",
          "height": 334
        },
        "outputId": "505a4ff8-c4b8-4340-dd6f-2b408601361a"
      }
    },
    {
      "cell_type": "code",
      "execution_count": null,
      "source": [
        "learner.fit_onecycle(lr=1e-4, epochs=5)"
      ],
      "outputs": [
        {
          "output_type": "stream",
          "name": "stdout",
          "text": [
            "\n",
            "\n",
            "begin training using onecycle policy with max lr of 0.0001...\n",
            "Epoch 1/5\n",
            "98/98 [==============================] - 249s 2s/step - loss: 1.2386 - accuracy: 0.5048 - val_loss: 1.0209 - val_accuracy: 0.5977\n",
            "Epoch 2/5\n",
            "98/98 [==============================] - 220s 2s/step - loss: 1.0762 - accuracy: 0.5789 - val_loss: 1.0522 - val_accuracy: 0.5933\n",
            "Epoch 3/5\n",
            "98/98 [==============================] - 221s 2s/step - loss: 0.9359 - accuracy: 0.6407 - val_loss: 1.0514 - val_accuracy: 0.6208\n",
            "Epoch 4/5\n",
            "98/98 [==============================] - 220s 2s/step - loss: 0.6802 - accuracy: 0.7486 - val_loss: 1.0690 - val_accuracy: 0.6527\n",
            "Epoch 5/5\n",
            "98/98 [==============================] - 221s 2s/step - loss: 0.3860 - accuracy: 0.8566 - val_loss: 1.1983 - val_accuracy: 0.6570\n"
          ]
        },
        {
          "output_type": "execute_result",
          "data": {
            "text/plain": [
              "<tensorflow.python.keras.callbacks.History at 0x7f1af82feb10>"
            ]
          },
          "metadata": {
            "tags": []
          },
          "execution_count": 17
        }
      ],
      "metadata": {
        "id": "Y_VC1BcKJMn9",
        "colab": {
          "base_uri": "https://localhost:8080/"
        },
        "outputId": "b6314046-dbf1-415d-9b88-296e5c1a6f9b"
      }
    },
    {
      "cell_type": "code",
      "execution_count": null,
      "source": [
        "learner.validate(class_names=list(df_tr['category'].unique()))"
      ],
      "outputs": [
        {
          "output_type": "stream",
          "name": "stdout",
          "text": [
            "                precision    recall  f1-score   support\n",
            "\n",
            "      Negative       0.26      0.31      0.28        52\n",
            "      Positive       0.68      0.60      0.64       139\n",
            "   not-Kannada       0.72      0.79      0.75       321\n",
            "Mixed feelings       0.70      0.64      0.67       110\n",
            " unknown state       0.58      0.43      0.50        69\n",
            "\n",
            "      accuracy                           0.66       691\n",
            "     macro avg       0.59      0.55      0.57       691\n",
            "  weighted avg       0.66      0.66      0.66       691\n",
            "\n"
          ]
        },
        {
          "output_type": "execute_result",
          "data": {
            "text/plain": [
              "array([[ 16,   9,  25,   0,   2],\n",
              "       [ 13,  83,  36,   2,   5],\n",
              "       [ 18,  24, 255,  19,   5],\n",
              "       [  5,   4,  21,  70,  10],\n",
              "       [ 10,   2,  18,   9,  30]])"
            ]
          },
          "metadata": {
            "tags": []
          },
          "execution_count": 18
        }
      ],
      "metadata": {
        "colab": {
          "base_uri": "https://localhost:8080/"
        },
        "id": "0yj3IbPMZ3_r",
        "outputId": "979e9389-40af-4fa1-bb5d-3d5a1f603e47"
      }
    },
    {
      "cell_type": "code",
      "execution_count": null,
      "source": [
        "predictor = ktrain.get_predictor(learner.model, preproc=preprocess)"
      ],
      "outputs": [],
      "metadata": {
        "id": "qCAYUESPMYf5"
      }
    },
    {
      "cell_type": "code",
      "execution_count": null,
      "source": [
        "predictor.predict(['some text'])"
      ],
      "outputs": [],
      "metadata": {
        "id": "YXd0B_a7Se4s"
      }
    },
    {
      "cell_type": "markdown",
      "source": [
        "# PART2 (Another approach where any other specific model can also be used)"
      ],
      "metadata": {
        "id": "MEoNIVHxVURr"
      }
    },
    {
      "cell_type": "code",
      "execution_count": null,
      "source": [
        "X_train, y_train = list(df_tr['text'].values), list(df_tr['category'].values)\r\n",
        "X_test, y_test = list(df_tt['text'].values), list(df_tt['category'].values)"
      ],
      "outputs": [],
      "metadata": {
        "id": "TvPzPKIHbN2e"
      }
    },
    {
      "cell_type": "code",
      "execution_count": null,
      "source": [
        "model_name = 'distilbert-base-uncased'"
      ],
      "outputs": [],
      "metadata": {
        "id": "i6L6Qo5aVXXJ"
      }
    },
    {
      "cell_type": "code",
      "execution_count": null,
      "source": [
        "trans = text.Transformer(model_name, maxlen=64, class_names=list(df_tr['category'].unique()))"
      ],
      "outputs": [
        {
          "output_type": "display_data",
          "data": {
            "text/plain": [
              "HBox(children=(FloatProgress(value=0.0, description='Downloading', max=442.0, style=ProgressStyle(description_…"
            ],
            "application/vnd.jupyter.widget-view+json": {
              "model_id": "cfac98e931154466bb12004916abd042",
              "version_minor": 0,
              "version_major": 2
            }
          },
          "metadata": {
            "tags": []
          }
        },
        {
          "output_type": "stream",
          "name": "stdout",
          "text": [
            "\n"
          ]
        }
      ],
      "metadata": {
        "colab": {
          "base_uri": "https://localhost:8080/",
          "height": 66,
          "referenced_widgets": [
            "cfac98e931154466bb12004916abd042",
            "1a9b2f22b5774702b13e3753d9313a47",
            "e1ec050ce6bc42009a243d3df120e723",
            "204787a633e240c09da6c3e8c65e1026",
            "f5bd10540ac9425991e3bbc8ad186f8f",
            "ddc47450791f4ce6b1de132dcda2bf0d",
            "ace666f77a3d44008dca664834ac7eff",
            "c2fce186d56a44d0aa1070ca51193edf"
          ]
        },
        "id": "jv8z8KrFVfZC",
        "outputId": "9f1ffbbd-744d-404d-bf23-efb8a7728518"
      }
    },
    {
      "cell_type": "code",
      "execution_count": null,
      "source": [
        "train_data = trans.preprocess_train(X_train, y_train)\r\n",
        "val_data = trans.preprocess_train(X_test, y_test)"
      ],
      "outputs": [
        {
          "output_type": "stream",
          "name": "stdout",
          "text": [
            "preprocessing train...\n",
            "language: kn\n",
            "train sequence lengths:\n",
            "\tmean : 8\n",
            "\t95percentile : 21\n",
            "\t99percentile : 43\n"
          ]
        },
        {
          "output_type": "stream",
          "name": "stderr",
          "text": [
            "/usr/local/lib/python3.7/dist-packages/ktrain/utils.py:600: UserWarning: class_names argument was ignored, as they were extracted from string labels in dataset\n",
            "  if self.get_classes(): warnings.warn('class_names argument was ignored, as they were extracted from string labels in dataset')\n"
          ]
        },
        {
          "output_type": "display_data",
          "data": {
            "text/plain": [
              "HBox(children=(FloatProgress(value=0.0, description='Downloading', max=231508.0, style=ProgressStyle(descripti…"
            ],
            "application/vnd.jupyter.widget-view+json": {
              "model_id": "afa8ea9665504413866742e8295e8f4e",
              "version_minor": 0,
              "version_major": 2
            }
          },
          "metadata": {
            "tags": []
          }
        },
        {
          "output_type": "stream",
          "name": "stdout",
          "text": [
            "\n"
          ]
        },
        {
          "output_type": "display_data",
          "data": {
            "text/plain": [
              "HBox(children=(FloatProgress(value=0.0, description='Downloading', max=466062.0, style=ProgressStyle(descripti…"
            ],
            "application/vnd.jupyter.widget-view+json": {
              "model_id": "bbd76b98763345b490effd427d6ab3ed",
              "version_minor": 0,
              "version_major": 2
            }
          },
          "metadata": {
            "tags": []
          }
        },
        {
          "output_type": "stream",
          "name": "stdout",
          "text": [
            "\n"
          ]
        },
        {
          "output_type": "display_data",
          "data": {
            "text/plain": [
              "<IPython.core.display.HTML object>"
            ],
            "text/html": []
          },
          "metadata": {
            "tags": []
          }
        },
        {
          "output_type": "stream",
          "name": "stdout",
          "text": [
            "Is Multi-Label? False\n",
            "preprocessing train...\n",
            "language: kn\n",
            "train sequence lengths:\n",
            "\tmean : 8\n",
            "\t95percentile : 23\n",
            "\t99percentile : 40\n"
          ]
        },
        {
          "output_type": "display_data",
          "data": {
            "text/plain": [
              "<IPython.core.display.HTML object>"
            ],
            "text/html": []
          },
          "metadata": {
            "tags": []
          }
        },
        {
          "output_type": "stream",
          "name": "stdout",
          "text": [
            "Is Multi-Label? False\n"
          ]
        }
      ],
      "metadata": {
        "colab": {
          "base_uri": "https://localhost:8080/",
          "height": 387,
          "referenced_widgets": [
            "afa8ea9665504413866742e8295e8f4e",
            "f765d4372f4540ef86cabf1e6fa69807",
            "77a8a2aa20df44d88a831a9c07b5ff1d",
            "84ee8971798842f3bab04b4b21ca64d5",
            "078466d1b975483ba675faacb267c465",
            "aaccf7b6c48b467aaf1c9b5cff9e25dd",
            "b6f54a89dd424caa98621b72aa23aa0e",
            "39e1dcf849df44fbbc389fe1d0738ade",
            "bbd76b98763345b490effd427d6ab3ed",
            "ef12830efe434a40adf8ad7686a65d2c",
            "6fb6d6e036eb400c8d0a6e2370a12eb1",
            "c255c1bf99ad43dabefa639bb6759ded",
            "947941d21d8048e8a92cdb61e2f928fb",
            "d0927bfc1fca42c09c1632de01b73eee",
            "14f145900c1c4e01b9b6d96cbfebb9d1",
            "a69d0a2a81654aecb7cc0a46ce1de212"
          ]
        },
        "id": "e96lNKk-Vv73",
        "outputId": "8e621fcc-aeae-4fbb-b7ea-1f00d9f4e30e"
      }
    },
    {
      "cell_type": "code",
      "execution_count": null,
      "source": [
        "model = trans.get_classifier()"
      ],
      "outputs": [
        {
          "output_type": "display_data",
          "data": {
            "text/plain": [
              "HBox(children=(FloatProgress(value=0.0, description='Downloading', max=363423424.0, style=ProgressStyle(descri…"
            ],
            "application/vnd.jupyter.widget-view+json": {
              "model_id": "16f964e6102e4330a31c4cb12c267867",
              "version_minor": 0,
              "version_major": 2
            }
          },
          "metadata": {
            "tags": []
          }
        },
        {
          "output_type": "stream",
          "name": "stdout",
          "text": [
            "\n"
          ]
        }
      ],
      "metadata": {
        "colab": {
          "base_uri": "https://localhost:8080/",
          "height": 66,
          "referenced_widgets": [
            "16f964e6102e4330a31c4cb12c267867",
            "ca6e1dd8e779450ca6aedb72de5935b2",
            "870959f89a6143dd840baf6e0f210cf2",
            "6b593ab5184b4981b4e1084abc20371d",
            "5afae24ab258463785499f649e728024",
            "6e3fd58369334664972834c30a0dbbe3",
            "99c40dfe79204e49b741f32a7b939d88",
            "3986b8cd61b74e0c96bd5eb4eea3bc48"
          ]
        },
        "id": "4HjbvQPbWaCj",
        "outputId": "4855cbef-ee25-4302-a99a-72a33f6b634b"
      }
    },
    {
      "cell_type": "code",
      "execution_count": null,
      "source": [
        "learner = ktrain.get_learner(model, train_data=train_data, val_data=val_data, batch_size=64)"
      ],
      "outputs": [],
      "metadata": {
        "id": "F6cswEsFWhng"
      }
    },
    {
      "cell_type": "code",
      "execution_count": null,
      "source": [
        "learner.lr_find(show_plot=True, max_epochs=5)"
      ],
      "outputs": [],
      "metadata": {
        "id": "WrPO9acnWz-x"
      }
    },
    {
      "cell_type": "code",
      "execution_count": null,
      "source": [
        "learner.fit_onecycle(2e-5, 5)"
      ],
      "outputs": [
        {
          "output_type": "stream",
          "name": "stdout",
          "text": [
            "\n",
            "\n",
            "begin training using onecycle policy with max lr of 2e-05...\n",
            "Epoch 1/5\n",
            "98/98 [==============================] - 39s 388ms/step - loss: 1.1480 - accuracy: 0.5620 - val_loss: 1.0495 - val_accuracy: 0.5847\n",
            "Epoch 2/5\n",
            "98/98 [==============================] - 40s 399ms/step - loss: 1.0755 - accuracy: 0.5874 - val_loss: 1.0017 - val_accuracy: 0.6266\n",
            "Epoch 3/5\n",
            "98/98 [==============================] - 40s 396ms/step - loss: 0.9842 - accuracy: 0.6349 - val_loss: 0.9956 - val_accuracy: 0.6049\n",
            "Epoch 4/5\n",
            "98/98 [==============================] - 40s 396ms/step - loss: 0.8675 - accuracy: 0.6882 - val_loss: 0.9494 - val_accuracy: 0.6440\n",
            "Epoch 5/5\n",
            "98/98 [==============================] - 40s 398ms/step - loss: 0.7680 - accuracy: 0.7291 - val_loss: 0.9717 - val_accuracy: 0.6440\n"
          ]
        },
        {
          "output_type": "execute_result",
          "data": {
            "text/plain": [
              "<tensorflow.python.keras.callbacks.History at 0x7f40b3b9cf90>"
            ]
          },
          "metadata": {
            "tags": []
          },
          "execution_count": 15
        }
      ],
      "metadata": {
        "colab": {
          "base_uri": "https://localhost:8080/"
        },
        "id": "5O9qN9dVXAlT",
        "outputId": "2770a1d3-98e5-4ac1-bee2-e2519e7d4fc7"
      }
    },
    {
      "cell_type": "code",
      "execution_count": null,
      "source": [
        "learner.validate(class_names=list(df_tr['category'].unique()))"
      ],
      "outputs": [
        {
          "output_type": "stream",
          "name": "stdout",
          "text": [
            "                precision    recall  f1-score   support\n",
            "\n",
            "      Negative       0.00      0.00      0.00        52\n",
            "      Positive       0.58      0.58      0.58       139\n",
            "   not-Kannada       0.68      0.79      0.73       321\n",
            "Mixed feelings       0.75      0.67      0.71       110\n",
            " unknown state       0.47      0.52      0.49        69\n",
            "\n",
            "      accuracy                           0.64       691\n",
            "     macro avg       0.49      0.51      0.50       691\n",
            "  weighted avg       0.60      0.64      0.62       691\n",
            "\n"
          ]
        },
        {
          "output_type": "execute_result",
          "data": {
            "text/plain": [
              "array([[  0,  12,  32,   1,   7],\n",
              "       [  0,  81,  54,   0,   4],\n",
              "       [  1,  36, 254,  17,  13],\n",
              "       [  0,   3,  16,  74,  17],\n",
              "       [  0,   8,  18,   7,  36]])"
            ]
          },
          "metadata": {
            "tags": []
          },
          "execution_count": 17
        }
      ],
      "metadata": {
        "id": "GahRZ384XI4b",
        "colab": {
          "base_uri": "https://localhost:8080/"
        },
        "outputId": "bbf7b377-3846-48bd-91c2-6bdf3400053e"
      }
    },
    {
      "cell_type": "code",
      "execution_count": null,
      "source": [
        "predictor = ktrain.get_predictor(learner.model, preproc=trans)"
      ],
      "outputs": [],
      "metadata": {
        "id": "7D-kVAVQaRgq"
      }
    },
    {
      "cell_type": "code",
      "execution_count": null,
      "source": [
        "predictor.predict(['some text'])"
      ],
      "outputs": [],
      "metadata": {
        "id": "RDsDIbdubar0"
      }
    },
    {
      "cell_type": "code",
      "execution_count": null,
      "source": [],
      "outputs": [],
      "metadata": {
        "id": "PdS4d3Vai9yV"
      }
    }
  ]
}