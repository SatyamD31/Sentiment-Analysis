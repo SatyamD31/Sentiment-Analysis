{
  "nbformat": 4,
  "nbformat_minor": 2,
  "metadata": {
    "language_info": {
      "codemirror_mode": {
        "name": "ipython",
        "version": 3
      },
      "file_extension": ".py",
      "mimetype": "text/x-python",
      "name": "python",
      "nbconvert_exporter": "python",
      "pygments_lexer": "ipython3",
      "version": "3.7.6"
    },
    "orig_nbformat": 4,
    "kernelspec": {
      "name": "python3",
      "display_name": "Python 3.7.6 64-bit ('base': conda)"
    },
    "interpreter": {
      "hash": "6d46af94c2bbce495f1e668725902fa517c90b1782bcfe2fce0dd9868df553d3"
    },
    "colab": {
      "name": "All_ML_models_Kannada.ipynb",
      "provenance": [],
      "collapsed_sections": []
    },
    "accelerator": "GPU"
  },
  "cells": [
    {
      "cell_type": "code",
      "execution_count": 1,
      "source": [
        "from google.colab import drive\r\n",
        "drive.mount('/content/drive')"
      ],
      "outputs": [
        {
          "output_type": "stream",
          "name": "stdout",
          "text": [
            "Mounted at /content/drive\n"
          ]
        }
      ],
      "metadata": {
        "id": "hbR0qzO7NfaT",
        "colab": {
          "base_uri": "https://localhost:8080/"
        },
        "outputId": "bce5868a-3d4c-46c1-e482-1327a39545c7"
      }
    },
    {
      "cell_type": "code",
      "execution_count": 2,
      "source": [
        "import pandas as pd\r\n",
        "\r\n",
        "from sklearn.preprocessing import LabelEncoder"
      ],
      "outputs": [],
      "metadata": {
        "id": "ZPkYIET0AYhq"
      }
    },
    {
      "cell_type": "code",
      "execution_count": 3,
      "source": [
        "df_tr = pd.read_csv('/content/drive/My Drive/dataset/kannada_sentiment_full_train.tsv', sep='\\t')\r\n",
        "print(df_tr.shape)\r\n",
        "df_tr.head()"
      ],
      "outputs": [
        {
          "output_type": "stream",
          "name": "stdout",
          "text": [
            "(6212, 2)\n"
          ]
        },
        {
          "output_type": "execute_result",
          "data": {
            "text/plain": [
              "                                                text     category\n",
              "0  ಒಂದು ದೇಶದ ಮುಂದುವರಿಯುವುದು ಅದರ ಆರ್ಥಿಕ ಸ್ಥಿತಿಯನ್ನ...     Negative\n",
              "1  ಕನ್ನಡದಲ್ಲಿ ಡೈಲಿ ಟೆಕ್ ಅಪ್ಡೇಟ್ಸ್ ಪಡೆಯಲು ಸಬ್ಸ್ಕ್ರ...     Positive\n",
              "2                                     Super sar song  not-Kannada\n",
              "3  Tiktokers present situation... nನೋಡುವವರು ಯಾರು ...     Negative\n",
              "4                          Super ಸಾಂಗ್ ವೆರಿ ನೈಸ್....     Positive"
            ],
            "text/html": [
              "<div>\n",
              "<style scoped>\n",
              "    .dataframe tbody tr th:only-of-type {\n",
              "        vertical-align: middle;\n",
              "    }\n",
              "\n",
              "    .dataframe tbody tr th {\n",
              "        vertical-align: top;\n",
              "    }\n",
              "\n",
              "    .dataframe thead th {\n",
              "        text-align: right;\n",
              "    }\n",
              "</style>\n",
              "<table border=\"1\" class=\"dataframe\">\n",
              "  <thead>\n",
              "    <tr style=\"text-align: right;\">\n",
              "      <th></th>\n",
              "      <th>text</th>\n",
              "      <th>category</th>\n",
              "    </tr>\n",
              "  </thead>\n",
              "  <tbody>\n",
              "    <tr>\n",
              "      <th>0</th>\n",
              "      <td>ಒಂದು ದೇಶದ ಮುಂದುವರಿಯುವುದು ಅದರ ಆರ್ಥಿಕ ಸ್ಥಿತಿಯನ್ನ...</td>\n",
              "      <td>Negative</td>\n",
              "    </tr>\n",
              "    <tr>\n",
              "      <th>1</th>\n",
              "      <td>ಕನ್ನಡದಲ್ಲಿ ಡೈಲಿ ಟೆಕ್ ಅಪ್ಡೇಟ್ಸ್ ಪಡೆಯಲು ಸಬ್ಸ್ಕ್ರ...</td>\n",
              "      <td>Positive</td>\n",
              "    </tr>\n",
              "    <tr>\n",
              "      <th>2</th>\n",
              "      <td>Super sar song</td>\n",
              "      <td>not-Kannada</td>\n",
              "    </tr>\n",
              "    <tr>\n",
              "      <th>3</th>\n",
              "      <td>Tiktokers present situation... nನೋಡುವವರು ಯಾರು ...</td>\n",
              "      <td>Negative</td>\n",
              "    </tr>\n",
              "    <tr>\n",
              "      <th>4</th>\n",
              "      <td>Super ಸಾಂಗ್ ವೆರಿ ನೈಸ್....</td>\n",
              "      <td>Positive</td>\n",
              "    </tr>\n",
              "  </tbody>\n",
              "</table>\n",
              "</div>"
            ]
          },
          "metadata": {},
          "execution_count": 3
        }
      ],
      "metadata": {
        "colab": {
          "base_uri": "https://localhost:8080/",
          "height": 220
        },
        "id": "f0fojyfWAYhv",
        "outputId": "2dbb75b4-7f08-4b04-9607-4496140abe73"
      }
    },
    {
      "cell_type": "code",
      "execution_count": 4,
      "source": [
        "print(df_tr['category'].value_counts())\r\n",
        "df_tr['category'].unique()"
      ],
      "outputs": [
        {
          "output_type": "stream",
          "name": "stdout",
          "text": [
            "Positive          2823\n",
            "Negative          1188\n",
            "not-Kannada        916\n",
            "unknown state      711\n",
            "Mixed feelings     574\n",
            "Name: category, dtype: int64\n"
          ]
        },
        {
          "output_type": "execute_result",
          "data": {
            "text/plain": [
              "array(['Negative', 'Positive', 'not-Kannada', 'Mixed feelings',\n",
              "       'unknown state'], dtype=object)"
            ]
          },
          "metadata": {},
          "execution_count": 4
        }
      ],
      "metadata": {
        "colab": {
          "base_uri": "https://localhost:8080/"
        },
        "id": "cQ4LWrRwAYhx",
        "outputId": "69792b4a-bc1e-4c7a-8cd5-b704b143874c"
      }
    },
    {
      "cell_type": "code",
      "execution_count": 5,
      "source": [
        "df_tr['category'] = LabelEncoder().fit_transform(df_tr['category'])\r\n",
        "df_tr.head()"
      ],
      "outputs": [
        {
          "output_type": "execute_result",
          "data": {
            "text/plain": [
              "                                                text  category\n",
              "0  ಒಂದು ದೇಶದ ಮುಂದುವರಿಯುವುದು ಅದರ ಆರ್ಥಿಕ ಸ್ಥಿತಿಯನ್ನ...         1\n",
              "1  ಕನ್ನಡದಲ್ಲಿ ಡೈಲಿ ಟೆಕ್ ಅಪ್ಡೇಟ್ಸ್ ಪಡೆಯಲು ಸಬ್ಸ್ಕ್ರ...         2\n",
              "2                                     Super sar song         3\n",
              "3  Tiktokers present situation... nನೋಡುವವರು ಯಾರು ...         1\n",
              "4                          Super ಸಾಂಗ್ ವೆರಿ ನೈಸ್....         2"
            ],
            "text/html": [
              "<div>\n",
              "<style scoped>\n",
              "    .dataframe tbody tr th:only-of-type {\n",
              "        vertical-align: middle;\n",
              "    }\n",
              "\n",
              "    .dataframe tbody tr th {\n",
              "        vertical-align: top;\n",
              "    }\n",
              "\n",
              "    .dataframe thead th {\n",
              "        text-align: right;\n",
              "    }\n",
              "</style>\n",
              "<table border=\"1\" class=\"dataframe\">\n",
              "  <thead>\n",
              "    <tr style=\"text-align: right;\">\n",
              "      <th></th>\n",
              "      <th>text</th>\n",
              "      <th>category</th>\n",
              "    </tr>\n",
              "  </thead>\n",
              "  <tbody>\n",
              "    <tr>\n",
              "      <th>0</th>\n",
              "      <td>ಒಂದು ದೇಶದ ಮುಂದುವರಿಯುವುದು ಅದರ ಆರ್ಥಿಕ ಸ್ಥಿತಿಯನ್ನ...</td>\n",
              "      <td>1</td>\n",
              "    </tr>\n",
              "    <tr>\n",
              "      <th>1</th>\n",
              "      <td>ಕನ್ನಡದಲ್ಲಿ ಡೈಲಿ ಟೆಕ್ ಅಪ್ಡೇಟ್ಸ್ ಪಡೆಯಲು ಸಬ್ಸ್ಕ್ರ...</td>\n",
              "      <td>2</td>\n",
              "    </tr>\n",
              "    <tr>\n",
              "      <th>2</th>\n",
              "      <td>Super sar song</td>\n",
              "      <td>3</td>\n",
              "    </tr>\n",
              "    <tr>\n",
              "      <th>3</th>\n",
              "      <td>Tiktokers present situation... nನೋಡುವವರು ಯಾರು ...</td>\n",
              "      <td>1</td>\n",
              "    </tr>\n",
              "    <tr>\n",
              "      <th>4</th>\n",
              "      <td>Super ಸಾಂಗ್ ವೆರಿ ನೈಸ್....</td>\n",
              "      <td>2</td>\n",
              "    </tr>\n",
              "  </tbody>\n",
              "</table>\n",
              "</div>"
            ]
          },
          "metadata": {},
          "execution_count": 5
        }
      ],
      "metadata": {
        "colab": {
          "base_uri": "https://localhost:8080/",
          "height": 203
        },
        "id": "NADfMzchAYhy",
        "outputId": "e0ab898d-3c6f-4a77-e205-38f23ca26ee1"
      }
    },
    {
      "cell_type": "code",
      "execution_count": 6,
      "source": [
        "def demoji(text):\r\n",
        "\temoji_pattern = re.compile(\"[\"\r\n",
        "\t\tu\"\\U0001F600-\\U0001F64F\"  # emoticons\r\n",
        "        u\"\\U0001F300-\\U0001F5FF\"  # symbols & pictographs\r\n",
        "        u\"\\U0001F680-\\U0001F6FF\"  # transport & map symbols\r\n",
        "        u\"\\U0001F1E0-\\U0001F1FF\"  # flags (iOS)\r\n",
        "        u\"\\U00002702-\\U000027B0\"\r\n",
        "        u\"\\U000024C2-\\U0001F251\"\r\n",
        "        u\"\\U00010000-\\U0010ffff\"\r\n",
        "\t\"]+\", flags=re.UNICODE)\r\n",
        "\treturn(emoji_pattern.sub(r'', text))"
      ],
      "outputs": [],
      "metadata": {
        "id": "a9d0JIMHNdg7"
      }
    },
    {
      "cell_type": "code",
      "execution_count": 8,
      "source": [
        "import re\r\n",
        "df_tr['text'] = df_tr['text'].apply(lambda x: demoji(x))\r\n",
        "df_tr['text'] = df_tr['text'].str.replace('\\d+', '')\r\n",
        "df_tr.head(15)"
      ],
      "outputs": [
        {
          "output_type": "execute_result",
          "data": {
            "text/plain": [
              "                                                 text  category\n",
              "0   ಒಂದು ದೇಶದ ಮುಂದುವರಿಯುವುದು ಅದರ ಆರ್ಥಿಕ ಸ್ಥಿತಿಯನ್ನ...         1\n",
              "1   ಕನ್ನಡದಲ್ಲಿ ಡೈಲಿ ಟೆಕ್ ಅಪ್ಡೇಟ್ಸ್ ಪಡೆಯಲು ಸಬ್ಸ್ಕ್ರ...         2\n",
              "2                                      Super sar song         3\n",
              "3   Tiktokers present situation... nನೋಡುವವರು ಯಾರು ...         1\n",
              "4                           Super ಸಾಂಗ್ ವೆರಿ ನೈಸ್....         2\n",
              "5   Varshakke  thagadu movie madi industry haal ma...         1\n",
              "6    Tickets amount  adru mosa illa ... Love you  all         2\n",
              "7              Super super super film I can't explain         2\n",
              "8        @Wild Rex ಕಟ್ಟಬೇಕು bronಖಂಡಿತಾ ಕಟ್ಟುತ್ತೆ  bro         0\n",
              "9                     shankaragouda desaigoudra super         2\n",
              "10                       @Vinay Vn  nani gentle men??         4\n",
              "11                                Nayanappa's book ??         4\n",
              "12                          Who is here after k likes         0\n",
              "13                      Sir ನಿಮ್ಮ ಮಾತು  ಕ್ಕೆ % ಸತ್ಯ..         2\n",
              "14                       Very nice togari tippa story         2"
            ],
            "text/html": [
              "<div>\n",
              "<style scoped>\n",
              "    .dataframe tbody tr th:only-of-type {\n",
              "        vertical-align: middle;\n",
              "    }\n",
              "\n",
              "    .dataframe tbody tr th {\n",
              "        vertical-align: top;\n",
              "    }\n",
              "\n",
              "    .dataframe thead th {\n",
              "        text-align: right;\n",
              "    }\n",
              "</style>\n",
              "<table border=\"1\" class=\"dataframe\">\n",
              "  <thead>\n",
              "    <tr style=\"text-align: right;\">\n",
              "      <th></th>\n",
              "      <th>text</th>\n",
              "      <th>category</th>\n",
              "    </tr>\n",
              "  </thead>\n",
              "  <tbody>\n",
              "    <tr>\n",
              "      <th>0</th>\n",
              "      <td>ಒಂದು ದೇಶದ ಮುಂದುವರಿಯುವುದು ಅದರ ಆರ್ಥಿಕ ಸ್ಥಿತಿಯನ್ನ...</td>\n",
              "      <td>1</td>\n",
              "    </tr>\n",
              "    <tr>\n",
              "      <th>1</th>\n",
              "      <td>ಕನ್ನಡದಲ್ಲಿ ಡೈಲಿ ಟೆಕ್ ಅಪ್ಡೇಟ್ಸ್ ಪಡೆಯಲು ಸಬ್ಸ್ಕ್ರ...</td>\n",
              "      <td>2</td>\n",
              "    </tr>\n",
              "    <tr>\n",
              "      <th>2</th>\n",
              "      <td>Super sar song</td>\n",
              "      <td>3</td>\n",
              "    </tr>\n",
              "    <tr>\n",
              "      <th>3</th>\n",
              "      <td>Tiktokers present situation... nನೋಡುವವರು ಯಾರು ...</td>\n",
              "      <td>1</td>\n",
              "    </tr>\n",
              "    <tr>\n",
              "      <th>4</th>\n",
              "      <td>Super ಸಾಂಗ್ ವೆರಿ ನೈಸ್....</td>\n",
              "      <td>2</td>\n",
              "    </tr>\n",
              "    <tr>\n",
              "      <th>5</th>\n",
              "      <td>Varshakke  thagadu movie madi industry haal ma...</td>\n",
              "      <td>1</td>\n",
              "    </tr>\n",
              "    <tr>\n",
              "      <th>6</th>\n",
              "      <td>Tickets amount  adru mosa illa ... Love you  all</td>\n",
              "      <td>2</td>\n",
              "    </tr>\n",
              "    <tr>\n",
              "      <th>7</th>\n",
              "      <td>Super super super film I can't explain</td>\n",
              "      <td>2</td>\n",
              "    </tr>\n",
              "    <tr>\n",
              "      <th>8</th>\n",
              "      <td>@Wild Rex ಕಟ್ಟಬೇಕು bronಖಂಡಿತಾ ಕಟ್ಟುತ್ತೆ  bro</td>\n",
              "      <td>0</td>\n",
              "    </tr>\n",
              "    <tr>\n",
              "      <th>9</th>\n",
              "      <td>shankaragouda desaigoudra super</td>\n",
              "      <td>2</td>\n",
              "    </tr>\n",
              "    <tr>\n",
              "      <th>10</th>\n",
              "      <td>@Vinay Vn  nani gentle men??</td>\n",
              "      <td>4</td>\n",
              "    </tr>\n",
              "    <tr>\n",
              "      <th>11</th>\n",
              "      <td>Nayanappa's book ??</td>\n",
              "      <td>4</td>\n",
              "    </tr>\n",
              "    <tr>\n",
              "      <th>12</th>\n",
              "      <td>Who is here after k likes</td>\n",
              "      <td>0</td>\n",
              "    </tr>\n",
              "    <tr>\n",
              "      <th>13</th>\n",
              "      <td>Sir ನಿಮ್ಮ ಮಾತು  ಕ್ಕೆ % ಸತ್ಯ..</td>\n",
              "      <td>2</td>\n",
              "    </tr>\n",
              "    <tr>\n",
              "      <th>14</th>\n",
              "      <td>Very nice togari tippa story</td>\n",
              "      <td>2</td>\n",
              "    </tr>\n",
              "  </tbody>\n",
              "</table>\n",
              "</div>"
            ]
          },
          "metadata": {},
          "execution_count": 8
        }
      ],
      "metadata": {
        "id": "W-zRrDNrNdg7",
        "colab": {
          "base_uri": "https://localhost:8080/",
          "height": 511
        },
        "outputId": "219249bb-ac90-4735-a124-7b7c220847d6"
      }
    },
    {
      "cell_type": "code",
      "execution_count": 9,
      "source": [
        "def demoji(text):\r\n",
        "\temoji_pattern = re.compile(\"[\"\r\n",
        "\t\tu\"\\U0001F600-\\U0001F64F\"  # emoticons\r\n",
        "        u\"\\U0001F300-\\U0001F5FF\"  # symbols & pictographs\r\n",
        "        u\"\\U0001F680-\\U0001F6FF\"  # transport & map symbols\r\n",
        "        u\"\\U0001F1E0-\\U0001F1FF\"  # flags (iOS)\r\n",
        "        u\"\\U00002702-\\U000027B0\"\r\n",
        "        u\"\\U000024C2-\\U0001F251\"\r\n",
        "        u\"\\U00010000-\\U0010ffff\"\r\n",
        "\t\"]+\", flags=re.UNICODE)\r\n",
        "\treturn(emoji_pattern.sub(r'', text))"
      ],
      "outputs": [],
      "metadata": {
        "id": "TMgFCMdINdg8"
      }
    },
    {
      "cell_type": "code",
      "execution_count": 10,
      "source": [
        "df_tr['text'] = df_tr['text'].apply(lambda x: demoji(x))\r\n",
        "df_tr['text'] = df_tr['text'].str.replace('\\d+', '')\r\n",
        "df_tr.head(15)"
      ],
      "outputs": [
        {
          "output_type": "execute_result",
          "data": {
            "text/plain": [
              "                                                 text  category\n",
              "0   ಒಂದು ದೇಶದ ಮುಂದುವರಿಯುವುದು ಅದರ ಆರ್ಥಿಕ ಸ್ಥಿತಿಯನ್ನ...         1\n",
              "1   ಕನ್ನಡದಲ್ಲಿ ಡೈಲಿ ಟೆಕ್ ಅಪ್ಡೇಟ್ಸ್ ಪಡೆಯಲು ಸಬ್ಸ್ಕ್ರ...         2\n",
              "2                                      Super sar song         3\n",
              "3   Tiktokers present situation... nನೋಡುವವರು ಯಾರು ...         1\n",
              "4                           Super ಸಾಂಗ್ ವೆರಿ ನೈಸ್....         2\n",
              "5   Varshakke  thagadu movie madi industry haal ma...         1\n",
              "6    Tickets amount  adru mosa illa ... Love you  all         2\n",
              "7              Super super super film I can't explain         2\n",
              "8        @Wild Rex ಕಟ್ಟಬೇಕು bronಖಂಡಿತಾ ಕಟ್ಟುತ್ತೆ  bro         0\n",
              "9                     shankaragouda desaigoudra super         2\n",
              "10                       @Vinay Vn  nani gentle men??         4\n",
              "11                                Nayanappa's book ??         4\n",
              "12                          Who is here after k likes         0\n",
              "13                      Sir ನಿಮ್ಮ ಮಾತು  ಕ್ಕೆ % ಸತ್ಯ..         2\n",
              "14                       Very nice togari tippa story         2"
            ],
            "text/html": [
              "<div>\n",
              "<style scoped>\n",
              "    .dataframe tbody tr th:only-of-type {\n",
              "        vertical-align: middle;\n",
              "    }\n",
              "\n",
              "    .dataframe tbody tr th {\n",
              "        vertical-align: top;\n",
              "    }\n",
              "\n",
              "    .dataframe thead th {\n",
              "        text-align: right;\n",
              "    }\n",
              "</style>\n",
              "<table border=\"1\" class=\"dataframe\">\n",
              "  <thead>\n",
              "    <tr style=\"text-align: right;\">\n",
              "      <th></th>\n",
              "      <th>text</th>\n",
              "      <th>category</th>\n",
              "    </tr>\n",
              "  </thead>\n",
              "  <tbody>\n",
              "    <tr>\n",
              "      <th>0</th>\n",
              "      <td>ಒಂದು ದೇಶದ ಮುಂದುವರಿಯುವುದು ಅದರ ಆರ್ಥಿಕ ಸ್ಥಿತಿಯನ್ನ...</td>\n",
              "      <td>1</td>\n",
              "    </tr>\n",
              "    <tr>\n",
              "      <th>1</th>\n",
              "      <td>ಕನ್ನಡದಲ್ಲಿ ಡೈಲಿ ಟೆಕ್ ಅಪ್ಡೇಟ್ಸ್ ಪಡೆಯಲು ಸಬ್ಸ್ಕ್ರ...</td>\n",
              "      <td>2</td>\n",
              "    </tr>\n",
              "    <tr>\n",
              "      <th>2</th>\n",
              "      <td>Super sar song</td>\n",
              "      <td>3</td>\n",
              "    </tr>\n",
              "    <tr>\n",
              "      <th>3</th>\n",
              "      <td>Tiktokers present situation... nನೋಡುವವರು ಯಾರು ...</td>\n",
              "      <td>1</td>\n",
              "    </tr>\n",
              "    <tr>\n",
              "      <th>4</th>\n",
              "      <td>Super ಸಾಂಗ್ ವೆರಿ ನೈಸ್....</td>\n",
              "      <td>2</td>\n",
              "    </tr>\n",
              "    <tr>\n",
              "      <th>5</th>\n",
              "      <td>Varshakke  thagadu movie madi industry haal ma...</td>\n",
              "      <td>1</td>\n",
              "    </tr>\n",
              "    <tr>\n",
              "      <th>6</th>\n",
              "      <td>Tickets amount  adru mosa illa ... Love you  all</td>\n",
              "      <td>2</td>\n",
              "    </tr>\n",
              "    <tr>\n",
              "      <th>7</th>\n",
              "      <td>Super super super film I can't explain</td>\n",
              "      <td>2</td>\n",
              "    </tr>\n",
              "    <tr>\n",
              "      <th>8</th>\n",
              "      <td>@Wild Rex ಕಟ್ಟಬೇಕು bronಖಂಡಿತಾ ಕಟ್ಟುತ್ತೆ  bro</td>\n",
              "      <td>0</td>\n",
              "    </tr>\n",
              "    <tr>\n",
              "      <th>9</th>\n",
              "      <td>shankaragouda desaigoudra super</td>\n",
              "      <td>2</td>\n",
              "    </tr>\n",
              "    <tr>\n",
              "      <th>10</th>\n",
              "      <td>@Vinay Vn  nani gentle men??</td>\n",
              "      <td>4</td>\n",
              "    </tr>\n",
              "    <tr>\n",
              "      <th>11</th>\n",
              "      <td>Nayanappa's book ??</td>\n",
              "      <td>4</td>\n",
              "    </tr>\n",
              "    <tr>\n",
              "      <th>12</th>\n",
              "      <td>Who is here after k likes</td>\n",
              "      <td>0</td>\n",
              "    </tr>\n",
              "    <tr>\n",
              "      <th>13</th>\n",
              "      <td>Sir ನಿಮ್ಮ ಮಾತು  ಕ್ಕೆ % ಸತ್ಯ..</td>\n",
              "      <td>2</td>\n",
              "    </tr>\n",
              "    <tr>\n",
              "      <th>14</th>\n",
              "      <td>Very nice togari tippa story</td>\n",
              "      <td>2</td>\n",
              "    </tr>\n",
              "  </tbody>\n",
              "</table>\n",
              "</div>"
            ]
          },
          "metadata": {},
          "execution_count": 10
        }
      ],
      "metadata": {
        "id": "G3fmWX5dNdg-",
        "colab": {
          "base_uri": "https://localhost:8080/",
          "height": 511
        },
        "outputId": "be027ca6-fe1a-4627-d9a0-d2710e445c84"
      }
    },
    {
      "cell_type": "code",
      "execution_count": 11,
      "source": [
        "X_train, y_train = df_tr['text'], df_tr['category']"
      ],
      "outputs": [],
      "metadata": {
        "id": "9fw2YdrrAYhz"
      }
    },
    {
      "cell_type": "code",
      "execution_count": 13,
      "source": [
        "df_tt = pd.read_csv('/content/drive/My Drive/dataset/kannada_sentiment_full_dev.tsv', sep='\\t')\r\n",
        "print(df_tt.shape)\r\n",
        "df_tt.head()"
      ],
      "outputs": [
        {
          "output_type": "stream",
          "name": "stdout",
          "text": [
            "(691, 2)\n"
          ]
        },
        {
          "output_type": "execute_result",
          "data": {
            "text/plain": [
              "                                                text        category\n",
              "0  Binduge saryagi ugithidira good go ahead  we a...  Mixed feelings\n",
              "1                             yen song guru ...super        Positive\n",
              "2                                   my fevorat story     not-Kannada\n",
              "3                                  Super ತೋಗರಿ ತೀಪ್ಪ        Positive\n",
              "4  ನಿಮ್ಮ ಮಾತುಗಳು ಅಕ್ಷರಶಃ ಸತ್ಯ... ನಿಮ್ಮ ಈ ಸಾಮಾನ್ಯ ...        Positive"
            ],
            "text/html": [
              "<div>\n",
              "<style scoped>\n",
              "    .dataframe tbody tr th:only-of-type {\n",
              "        vertical-align: middle;\n",
              "    }\n",
              "\n",
              "    .dataframe tbody tr th {\n",
              "        vertical-align: top;\n",
              "    }\n",
              "\n",
              "    .dataframe thead th {\n",
              "        text-align: right;\n",
              "    }\n",
              "</style>\n",
              "<table border=\"1\" class=\"dataframe\">\n",
              "  <thead>\n",
              "    <tr style=\"text-align: right;\">\n",
              "      <th></th>\n",
              "      <th>text</th>\n",
              "      <th>category</th>\n",
              "    </tr>\n",
              "  </thead>\n",
              "  <tbody>\n",
              "    <tr>\n",
              "      <th>0</th>\n",
              "      <td>Binduge saryagi ugithidira good go ahead  we a...</td>\n",
              "      <td>Mixed feelings</td>\n",
              "    </tr>\n",
              "    <tr>\n",
              "      <th>1</th>\n",
              "      <td>yen song guru ...super</td>\n",
              "      <td>Positive</td>\n",
              "    </tr>\n",
              "    <tr>\n",
              "      <th>2</th>\n",
              "      <td>my fevorat story</td>\n",
              "      <td>not-Kannada</td>\n",
              "    </tr>\n",
              "    <tr>\n",
              "      <th>3</th>\n",
              "      <td>Super ತೋಗರಿ ತೀಪ್ಪ</td>\n",
              "      <td>Positive</td>\n",
              "    </tr>\n",
              "    <tr>\n",
              "      <th>4</th>\n",
              "      <td>ನಿಮ್ಮ ಮಾತುಗಳು ಅಕ್ಷರಶಃ ಸತ್ಯ... ನಿಮ್ಮ ಈ ಸಾಮಾನ್ಯ ...</td>\n",
              "      <td>Positive</td>\n",
              "    </tr>\n",
              "  </tbody>\n",
              "</table>\n",
              "</div>"
            ]
          },
          "metadata": {},
          "execution_count": 13
        }
      ],
      "metadata": {
        "colab": {
          "base_uri": "https://localhost:8080/",
          "height": 220
        },
        "id": "pKGAeXCqAYh0",
        "outputId": "98563a9a-d322-48c9-eb6c-8fa61e5b890e"
      }
    },
    {
      "cell_type": "code",
      "execution_count": 14,
      "source": [
        "df_tt['category'].value_counts()"
      ],
      "outputs": [
        {
          "output_type": "execute_result",
          "data": {
            "text/plain": [
              "Positive          321\n",
              "Negative          139\n",
              "not-Kannada       110\n",
              "unknown state      69\n",
              "Mixed feelings     52\n",
              "Name: category, dtype: int64"
            ]
          },
          "metadata": {},
          "execution_count": 14
        }
      ],
      "metadata": {
        "colab": {
          "base_uri": "https://localhost:8080/"
        },
        "id": "nLia7Y8GAYh1",
        "outputId": "4c3579a6-8c65-444f-97fc-4d2d6828211d"
      }
    },
    {
      "cell_type": "code",
      "execution_count": 15,
      "source": [
        "df_tt['category'] = LabelEncoder().fit_transform(df_tt['category'])\r\n",
        "df_tt.head()"
      ],
      "outputs": [
        {
          "output_type": "execute_result",
          "data": {
            "text/plain": [
              "                                                text  category\n",
              "0  Binduge saryagi ugithidira good go ahead  we a...         0\n",
              "1                             yen song guru ...super         2\n",
              "2                                   my fevorat story         3\n",
              "3                                  Super ತೋಗರಿ ತೀಪ್ಪ         2\n",
              "4  ನಿಮ್ಮ ಮಾತುಗಳು ಅಕ್ಷರಶಃ ಸತ್ಯ... ನಿಮ್ಮ ಈ ಸಾಮಾನ್ಯ ...         2"
            ],
            "text/html": [
              "<div>\n",
              "<style scoped>\n",
              "    .dataframe tbody tr th:only-of-type {\n",
              "        vertical-align: middle;\n",
              "    }\n",
              "\n",
              "    .dataframe tbody tr th {\n",
              "        vertical-align: top;\n",
              "    }\n",
              "\n",
              "    .dataframe thead th {\n",
              "        text-align: right;\n",
              "    }\n",
              "</style>\n",
              "<table border=\"1\" class=\"dataframe\">\n",
              "  <thead>\n",
              "    <tr style=\"text-align: right;\">\n",
              "      <th></th>\n",
              "      <th>text</th>\n",
              "      <th>category</th>\n",
              "    </tr>\n",
              "  </thead>\n",
              "  <tbody>\n",
              "    <tr>\n",
              "      <th>0</th>\n",
              "      <td>Binduge saryagi ugithidira good go ahead  we a...</td>\n",
              "      <td>0</td>\n",
              "    </tr>\n",
              "    <tr>\n",
              "      <th>1</th>\n",
              "      <td>yen song guru ...super</td>\n",
              "      <td>2</td>\n",
              "    </tr>\n",
              "    <tr>\n",
              "      <th>2</th>\n",
              "      <td>my fevorat story</td>\n",
              "      <td>3</td>\n",
              "    </tr>\n",
              "    <tr>\n",
              "      <th>3</th>\n",
              "      <td>Super ತೋಗರಿ ತೀಪ್ಪ</td>\n",
              "      <td>2</td>\n",
              "    </tr>\n",
              "    <tr>\n",
              "      <th>4</th>\n",
              "      <td>ನಿಮ್ಮ ಮಾತುಗಳು ಅಕ್ಷರಶಃ ಸತ್ಯ... ನಿಮ್ಮ ಈ ಸಾಮಾನ್ಯ ...</td>\n",
              "      <td>2</td>\n",
              "    </tr>\n",
              "  </tbody>\n",
              "</table>\n",
              "</div>"
            ]
          },
          "metadata": {},
          "execution_count": 15
        }
      ],
      "metadata": {
        "colab": {
          "base_uri": "https://localhost:8080/",
          "height": 203
        },
        "id": "4IbBdkJXAYh1",
        "outputId": "803fc0b9-b591-49c3-b81d-bd8696b824f7"
      }
    },
    {
      "cell_type": "code",
      "execution_count": 17,
      "source": [
        "df_tt['text'] = df_tt['text'].apply(lambda x: demoji(x))\r\n",
        "df_tt['text'] = df_tt['text'].str.replace('\\d+', '')\r\n",
        "df_tt.head(15)"
      ],
      "outputs": [
        {
          "output_type": "execute_result",
          "data": {
            "text/plain": [
              "                                                 text  category\n",
              "0   Binduge saryagi ugithidira good go ahead  we a...         0\n",
              "1                              yen song guru ...super         2\n",
              "2                                    my fevorat story         3\n",
              "3                                   Super ತೋಗರಿ ತೀಪ್ಪ         2\n",
              "4   ನಿಮ್ಮ ಮಾತುಗಳು ಅಕ್ಷರಶಃ ಸತ್ಯ... ನಿಮ್ಮ ಈ ಸಾಮಾನ್ಯ ...         2\n",
              "5             ಸೂಪರ್... ಜಂಟಲ್ ಮ್ಯಾನ್..... All the best         2\n",
              "6   ಆದರೆ ನಮ್ಮ ದೇಶದಲ್ಲಿ ರಾಜಕಾರಣದಲ್ಲಿ ಇಚ್ಛಾಶಕ್ತಿ ಕೊರ...         2\n",
              "7   ಚಂದನ್ ಶೆಟ್ಟಿ ಟ್ರೊಲ್ ವಿಡಿಯೋ ನೀವು ನೋಡಿ ನೆಗಡ್ಡೆ ಇ...         2\n",
              "8     @Kiccha Vitthal ದಬಾಂಗ್ ಆಲ್ಸೋ ಏನು ಆಲ್ರೆಡಿ ಫ್ಲಾಪ್         1\n",
              "9                                     tik tok rip bro         3\n",
              "10  Super movie days paka super guru see once dis ...         2\n",
              "11                                   Super I like him         2\n",
              "12  ನಿಮ್ಮ್ ಶ್ರಮ ತುಂಬಾ ಇರುತ್ತೆ ಸಾಂಗ್ ನೋಡಿದ್ರೆನೇ ಗೊತ...         2\n",
              "13  @Nandi Parthasarathi ನಂದಿನಿ ಪಾರ್ಥ ಸಾರಥಿ ನಿನ್ ತ...         1\n",
              "14                                        Anjali Devi         3"
            ],
            "text/html": [
              "<div>\n",
              "<style scoped>\n",
              "    .dataframe tbody tr th:only-of-type {\n",
              "        vertical-align: middle;\n",
              "    }\n",
              "\n",
              "    .dataframe tbody tr th {\n",
              "        vertical-align: top;\n",
              "    }\n",
              "\n",
              "    .dataframe thead th {\n",
              "        text-align: right;\n",
              "    }\n",
              "</style>\n",
              "<table border=\"1\" class=\"dataframe\">\n",
              "  <thead>\n",
              "    <tr style=\"text-align: right;\">\n",
              "      <th></th>\n",
              "      <th>text</th>\n",
              "      <th>category</th>\n",
              "    </tr>\n",
              "  </thead>\n",
              "  <tbody>\n",
              "    <tr>\n",
              "      <th>0</th>\n",
              "      <td>Binduge saryagi ugithidira good go ahead  we a...</td>\n",
              "      <td>0</td>\n",
              "    </tr>\n",
              "    <tr>\n",
              "      <th>1</th>\n",
              "      <td>yen song guru ...super</td>\n",
              "      <td>2</td>\n",
              "    </tr>\n",
              "    <tr>\n",
              "      <th>2</th>\n",
              "      <td>my fevorat story</td>\n",
              "      <td>3</td>\n",
              "    </tr>\n",
              "    <tr>\n",
              "      <th>3</th>\n",
              "      <td>Super ತೋಗರಿ ತೀಪ್ಪ</td>\n",
              "      <td>2</td>\n",
              "    </tr>\n",
              "    <tr>\n",
              "      <th>4</th>\n",
              "      <td>ನಿಮ್ಮ ಮಾತುಗಳು ಅಕ್ಷರಶಃ ಸತ್ಯ... ನಿಮ್ಮ ಈ ಸಾಮಾನ್ಯ ...</td>\n",
              "      <td>2</td>\n",
              "    </tr>\n",
              "    <tr>\n",
              "      <th>5</th>\n",
              "      <td>ಸೂಪರ್... ಜಂಟಲ್ ಮ್ಯಾನ್..... All the best</td>\n",
              "      <td>2</td>\n",
              "    </tr>\n",
              "    <tr>\n",
              "      <th>6</th>\n",
              "      <td>ಆದರೆ ನಮ್ಮ ದೇಶದಲ್ಲಿ ರಾಜಕಾರಣದಲ್ಲಿ ಇಚ್ಛಾಶಕ್ತಿ ಕೊರ...</td>\n",
              "      <td>2</td>\n",
              "    </tr>\n",
              "    <tr>\n",
              "      <th>7</th>\n",
              "      <td>ಚಂದನ್ ಶೆಟ್ಟಿ ಟ್ರೊಲ್ ವಿಡಿಯೋ ನೀವು ನೋಡಿ ನೆಗಡ್ಡೆ ಇ...</td>\n",
              "      <td>2</td>\n",
              "    </tr>\n",
              "    <tr>\n",
              "      <th>8</th>\n",
              "      <td>@Kiccha Vitthal ದಬಾಂಗ್ ಆಲ್ಸೋ ಏನು ಆಲ್ರೆಡಿ ಫ್ಲಾಪ್</td>\n",
              "      <td>1</td>\n",
              "    </tr>\n",
              "    <tr>\n",
              "      <th>9</th>\n",
              "      <td>tik tok rip bro</td>\n",
              "      <td>3</td>\n",
              "    </tr>\n",
              "    <tr>\n",
              "      <th>10</th>\n",
              "      <td>Super movie days paka super guru see once dis ...</td>\n",
              "      <td>2</td>\n",
              "    </tr>\n",
              "    <tr>\n",
              "      <th>11</th>\n",
              "      <td>Super I like him</td>\n",
              "      <td>2</td>\n",
              "    </tr>\n",
              "    <tr>\n",
              "      <th>12</th>\n",
              "      <td>ನಿಮ್ಮ್ ಶ್ರಮ ತುಂಬಾ ಇರುತ್ತೆ ಸಾಂಗ್ ನೋಡಿದ್ರೆನೇ ಗೊತ...</td>\n",
              "      <td>2</td>\n",
              "    </tr>\n",
              "    <tr>\n",
              "      <th>13</th>\n",
              "      <td>@Nandi Parthasarathi ನಂದಿನಿ ಪಾರ್ಥ ಸಾರಥಿ ನಿನ್ ತ...</td>\n",
              "      <td>1</td>\n",
              "    </tr>\n",
              "    <tr>\n",
              "      <th>14</th>\n",
              "      <td>Anjali Devi</td>\n",
              "      <td>3</td>\n",
              "    </tr>\n",
              "  </tbody>\n",
              "</table>\n",
              "</div>"
            ]
          },
          "metadata": {},
          "execution_count": 17
        }
      ],
      "metadata": {
        "id": "qaDoYJj5NdhF",
        "colab": {
          "base_uri": "https://localhost:8080/",
          "height": 511
        },
        "outputId": "2069e8da-4e43-4952-ea3d-4be0a821dedc"
      }
    },
    {
      "cell_type": "code",
      "execution_count": 18,
      "source": [
        "X_test, y_test = df_tt['text'], df_tt['category']"
      ],
      "outputs": [],
      "metadata": {
        "id": "fweyFeHKAYh2"
      }
    },
    {
      "cell_type": "code",
      "execution_count": 19,
      "source": [
        "from sklearn.feature_extraction.text import TfidfVectorizer\r\n",
        "\r\n",
        "from sklearn.naive_bayes import MultinomialNB\r\n",
        "from sklearn.ensemble import RandomForestClassifier\r\n",
        "from sklearn.svm import SVC\r\n",
        "from sklearn.linear_model import  LogisticRegression\r\n",
        "from sklearn.neighbors import KNeighborsClassifier\r\n",
        "from sklearn.tree import DecisionTreeClassifier\r\n",
        "\r\n",
        "from sklearn.metrics import classification_report\r\n",
        "from sklearn.metrics import accuracy_score, precision_score, recall_score, f1_score, roc_auc_score, confusion_matrix"
      ],
      "outputs": [],
      "metadata": {
        "id": "Lo7T-PUOAYh3"
      }
    },
    {
      "cell_type": "code",
      "execution_count": 20,
      "source": [
        "tfidf_ngram = TfidfVectorizer(token_pattern=r'\\w{1,}', ngram_range=(2, 3))\r\n",
        "\r\n",
        "tfidf_ngram.fit(X_train)\r\n",
        "X_train_tfidf_ngram = tfidf_ngram.transform(X_train)\r\n",
        "\r\n",
        "# tfidf_ngram.fit(X_test)\r\n",
        "X_test_tfidf_ngram = tfidf_ngram.transform(X_test)"
      ],
      "outputs": [],
      "metadata": {
        "id": "UYlwcT_KAYh4"
      }
    },
    {
      "cell_type": "code",
      "execution_count": 21,
      "source": [
        "def train_model(classifier, trained_feature_vector, train_target, test_feature_vector):\n",
        "    classifier.fit(trained_feature_vector, train_target)\n",
        "    predictions = classifier.predict(test_feature_vector)\n",
        "    \n",
        "    # prediction of target probabilites on test data for roc auc score/curve\n",
        "    # pred_prob = classifier.predict_proba(test_feature_vector)\n",
        "\n",
        "    # probabilities for spam class\n",
        "    # pos_prob = pred_prob[:, 1]\n",
        "\n",
        "    result = pd.DataFrame({'Metrics': ['Accuracy score', 'Recall score', 'F1 score', 'Precision score'], 'Scores': [accuracy_score(y_test, predictions), recall_score(y_test, predictions, average='micro'), f1_score(y_test, predictions, average='weighted'), precision_score(y_test, predictions, average='micro')]})\n",
        "\n",
        "    clf_report = classification_report(y_test, predictions)\n",
        "\n",
        "    return (result, clf_report)"
      ],
      "outputs": [],
      "metadata": {
        "id": "X2D_-pmKAYh4"
      }
    },
    {
      "cell_type": "code",
      "execution_count": 22,
      "source": [
        "scores, report = train_model(MultinomialNB(), X_train_tfidf_ngram, y_train, X_test_tfidf_ngram)\n",
        "print('Metrics Scores:\\n\\n', scores)\n",
        "print('\\nClassification Report:\\n\\n', report)"
      ],
      "outputs": [
        {
          "output_type": "stream",
          "name": "stdout",
          "text": [
            "Metrics Scores:\n",
            "\n",
            "            Metrics    Scores\n",
            "0   Accuracy score  0.513748\n",
            "1     Recall score  0.513748\n",
            "2         F1 score  0.398398\n",
            "3  Precision score  0.513748\n",
            "\n",
            "Classification Report:\n",
            "\n",
            "               precision    recall  f1-score   support\n",
            "\n",
            "           0       0.00      0.00      0.00        52\n",
            "           1       0.76      0.14      0.23       139\n",
            "           2       0.49      0.99      0.66       321\n",
            "           3       0.82      0.16      0.27       110\n",
            "           4       1.00      0.01      0.03        69\n",
            "\n",
            "    accuracy                           0.51       691\n",
            "   macro avg       0.61      0.26      0.24       691\n",
            "weighted avg       0.61      0.51      0.40       691\n",
            "\n"
          ]
        },
        {
          "output_type": "stream",
          "name": "stderr",
          "text": [
            "/usr/local/lib/python3.7/dist-packages/sklearn/metrics/_classification.py:1272: UndefinedMetricWarning: Precision and F-score are ill-defined and being set to 0.0 in labels with no predicted samples. Use `zero_division` parameter to control this behavior.\n",
            "  _warn_prf(average, modifier, msg_start, len(result))\n"
          ]
        }
      ],
      "metadata": {
        "colab": {
          "base_uri": "https://localhost:8080/"
        },
        "id": "2VR6LkRqAYh5",
        "outputId": "c6b8a926-aec7-4f12-8a74-621109776628"
      }
    },
    {
      "cell_type": "code",
      "execution_count": 23,
      "source": [
        "scores, report = train_model(LogisticRegression(max_iter=500), X_train_tfidf_ngram, y_train, X_test_tfidf_ngram)\n",
        "print('Metrics Scores:\\n\\n', scores)\n",
        "print('\\nClassification Report:\\n\\n', report)"
      ],
      "outputs": [
        {
          "output_type": "stream",
          "name": "stdout",
          "text": [
            "Metrics Scores:\n",
            "\n",
            "            Metrics    Scores\n",
            "0   Accuracy score  0.547033\n",
            "1     Recall score  0.547033\n",
            "2         F1 score  0.468810\n",
            "3  Precision score  0.547033\n",
            "\n",
            "Classification Report:\n",
            "\n",
            "               precision    recall  f1-score   support\n",
            "\n",
            "           0       1.00      0.02      0.04        52\n",
            "           1       0.69      0.21      0.32       139\n",
            "           2       0.52      0.93      0.67       321\n",
            "           3       0.66      0.40      0.50       110\n",
            "           4       0.44      0.06      0.10        69\n",
            "\n",
            "    accuracy                           0.55       691\n",
            "   macro avg       0.66      0.32      0.33       691\n",
            "weighted avg       0.61      0.55      0.47       691\n",
            "\n"
          ]
        }
      ],
      "metadata": {
        "colab": {
          "base_uri": "https://localhost:8080/"
        },
        "id": "Libf5JDeAYh5",
        "outputId": "67ad0104-2d2e-4dfe-9a76-1ce102de8f1c"
      }
    },
    {
      "cell_type": "code",
      "execution_count": 24,
      "source": [
        "scores, report = train_model(RandomForestClassifier(n_estimators=50), X_train_tfidf_ngram, y_train, X_test_tfidf_ngram)\n",
        "print('Metrics Scores:\\n\\n', scores)\n",
        "print('\\nClassification Report:\\n\\n', report)"
      ],
      "outputs": [
        {
          "output_type": "stream",
          "name": "stdout",
          "text": [
            "Metrics Scores:\n",
            "\n",
            "            Metrics    Scores\n",
            "0   Accuracy score  0.452967\n",
            "1     Recall score  0.452967\n",
            "2         F1 score  0.451789\n",
            "3  Precision score  0.452967\n",
            "\n",
            "Classification Report:\n",
            "\n",
            "               precision    recall  f1-score   support\n",
            "\n",
            "           0       0.31      0.08      0.12        52\n",
            "           1       0.67      0.21      0.32       139\n",
            "           2       0.71      0.56      0.63       321\n",
            "           3       0.25      0.78      0.38       110\n",
            "           4       0.37      0.22      0.27        69\n",
            "\n",
            "    accuracy                           0.45       691\n",
            "   macro avg       0.46      0.37      0.34       691\n",
            "weighted avg       0.57      0.45      0.45       691\n",
            "\n"
          ]
        }
      ],
      "metadata": {
        "colab": {
          "base_uri": "https://localhost:8080/"
        },
        "id": "YNJnZUGkAYh6",
        "outputId": "0d169c30-cb75-4f50-f496-8e84f1ee9980"
      }
    },
    {
      "cell_type": "markdown",
      "source": [
        "# 32854"
      ],
      "metadata": {
        "id": "SvpoaHusAYh7"
      }
    },
    {
      "cell_type": "code",
      "execution_count": 25,
      "source": [
        "!pip install xgboost"
      ],
      "outputs": [
        {
          "output_type": "stream",
          "name": "stdout",
          "text": [
            "Requirement already satisfied: xgboost in /usr/local/lib/python3.7/dist-packages (0.90)\n",
            "Requirement already satisfied: numpy in /usr/local/lib/python3.7/dist-packages (from xgboost) (1.19.5)\n",
            "Requirement already satisfied: scipy in /usr/local/lib/python3.7/dist-packages (from xgboost) (1.4.1)\n"
          ]
        }
      ],
      "metadata": {
        "colab": {
          "base_uri": "https://localhost:8080/"
        },
        "id": "ZHm9RvdCAYh8",
        "outputId": "9b2c5ff5-be2b-40af-b58f-3e7c58b3806c"
      }
    },
    {
      "cell_type": "code",
      "execution_count": 26,
      "source": [
        "from xgboost import XGBClassifier"
      ],
      "outputs": [],
      "metadata": {
        "id": "jNjyJ-D5He0Q"
      }
    },
    {
      "cell_type": "code",
      "execution_count": 27,
      "source": [
        "scores, report = train_model(XGBClassifier(), X_train_tfidf_ngram, y_train, X_test_tfidf_ngram)\n",
        "print('Metrics Scores:\\n\\n', scores)\n",
        "print('\\nClassification Report:\\n\\n', report)"
      ],
      "outputs": [
        {
          "output_type": "stream",
          "name": "stdout",
          "text": [
            "Metrics Scores:\n",
            "\n",
            "            Metrics    Scores\n",
            "0   Accuracy score  0.502171\n",
            "1     Recall score  0.502171\n",
            "2         F1 score  0.398864\n",
            "3  Precision score  0.502171\n",
            "\n",
            "Classification Report:\n",
            "\n",
            "               precision    recall  f1-score   support\n",
            "\n",
            "           0       0.00      0.00      0.00        52\n",
            "           1       0.91      0.14      0.25       139\n",
            "           2       0.48      0.95      0.64       321\n",
            "           3       0.58      0.19      0.29       110\n",
            "           4       0.50      0.03      0.05        69\n",
            "\n",
            "    accuracy                           0.50       691\n",
            "   macro avg       0.50      0.26      0.25       691\n",
            "weighted avg       0.55      0.50      0.40       691\n",
            "\n"
          ]
        }
      ],
      "metadata": {
        "colab": {
          "base_uri": "https://localhost:8080/"
        },
        "id": "9CWxrSu0HTQB",
        "outputId": "09a0a9dd-f359-4ff7-9a8e-499340c64e5e"
      }
    },
    {
      "cell_type": "code",
      "execution_count": 28,
      "source": [
        "scores, report = train_model(DecisionTreeClassifier(random_state=1), X_train_tfidf_ngram, y_train, X_test_tfidf_ngram)\n",
        "print('Metrics Scores:\\n\\n', scores)\n",
        "print('\\nClassification Report:\\n\\n', report)"
      ],
      "outputs": [
        {
          "output_type": "stream",
          "name": "stdout",
          "text": [
            "Metrics Scores:\n",
            "\n",
            "            Metrics    Scores\n",
            "0   Accuracy score  0.406657\n",
            "1     Recall score  0.406657\n",
            "2         F1 score  0.417958\n",
            "3  Precision score  0.406657\n",
            "\n",
            "Classification Report:\n",
            "\n",
            "               precision    recall  f1-score   support\n",
            "\n",
            "           0       0.30      0.17      0.22        52\n",
            "           1       0.50      0.23      0.32       139\n",
            "           2       0.71      0.47      0.56       321\n",
            "           3       0.22      0.72      0.34       110\n",
            "           4       0.35      0.16      0.22        69\n",
            "\n",
            "    accuracy                           0.41       691\n",
            "   macro avg       0.42      0.35      0.33       691\n",
            "weighted avg       0.52      0.41      0.42       691\n",
            "\n"
          ]
        }
      ],
      "metadata": {
        "colab": {
          "base_uri": "https://localhost:8080/"
        },
        "id": "4bZBq9YnEw4m",
        "outputId": "a2e76eef-a739-4711-fba1-4fcb0f4b132e"
      }
    },
    {
      "cell_type": "code",
      "execution_count": 29,
      "source": [
        "scores, report = train_model(SVC(kernel='linear'), X_train_tfidf_ngram, y_train, X_test_tfidf_ngram)\n",
        "print('Metrics Scores:\\n\\n', scores)\n",
        "print('\\nClassification Report:\\n\\n', report)"
      ],
      "outputs": [
        {
          "output_type": "stream",
          "name": "stdout",
          "text": [
            "Metrics Scores:\n",
            "\n",
            "            Metrics    Scores\n",
            "0   Accuracy score  0.560058\n",
            "1     Recall score  0.560058\n",
            "2         F1 score  0.501684\n",
            "3  Precision score  0.560058\n",
            "\n",
            "Classification Report:\n",
            "\n",
            "               precision    recall  f1-score   support\n",
            "\n",
            "           0       0.57      0.08      0.14        52\n",
            "           1       0.66      0.27      0.38       139\n",
            "           2       0.54      0.91      0.68       321\n",
            "           3       0.62      0.41      0.49       110\n",
            "           4       0.50      0.13      0.21        69\n",
            "\n",
            "    accuracy                           0.56       691\n",
            "   macro avg       0.58      0.36      0.38       691\n",
            "weighted avg       0.58      0.56      0.50       691\n",
            "\n"
          ]
        }
      ],
      "metadata": {
        "colab": {
          "base_uri": "https://localhost:8080/"
        },
        "id": "Yr5qnVXDHcyg",
        "outputId": "488787d8-050d-4f49-8a0e-02c81cf77046"
      }
    },
    {
      "cell_type": "code",
      "execution_count": 30,
      "source": [
        "scores, report = train_model(KNeighborsClassifier(n_neighbors=3), X_train_tfidf_ngram, y_train, X_test_tfidf_ngram)\n",
        "print('Metrics Scores:\\n\\n', scores)\n",
        "print('\\nClassification Report:\\n\\n', report)"
      ],
      "outputs": [
        {
          "output_type": "stream",
          "name": "stdout",
          "text": [
            "Metrics Scores:\n",
            "\n",
            "            Metrics    Scores\n",
            "0   Accuracy score  0.201158\n",
            "1     Recall score  0.201158\n",
            "2         F1 score  0.205584\n",
            "3  Precision score  0.201158\n",
            "\n",
            "Classification Report:\n",
            "\n",
            "               precision    recall  f1-score   support\n",
            "\n",
            "           0       0.09      0.94      0.16        52\n",
            "           1       0.25      0.01      0.03       139\n",
            "           2       0.82      0.12      0.22       321\n",
            "           3       0.58      0.38      0.46       110\n",
            "           4       0.40      0.09      0.14        69\n",
            "\n",
            "    accuracy                           0.20       691\n",
            "   macro avg       0.43      0.31      0.20       691\n",
            "weighted avg       0.57      0.20      0.21       691\n",
            "\n"
          ]
        }
      ],
      "metadata": {
        "colab": {
          "base_uri": "https://localhost:8080/"
        },
        "id": "-LYkCPgSE7JT",
        "outputId": "0ff5e968-911c-4ac1-c6de-e80ff3dff059"
      }
    },
    {
      "cell_type": "code",
      "execution_count": null,
      "source": [],
      "outputs": [],
      "metadata": {
        "id": "rFuiamyUE9EZ"
      }
    }
  ]
}